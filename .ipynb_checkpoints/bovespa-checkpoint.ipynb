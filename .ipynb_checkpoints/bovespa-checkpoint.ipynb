{
 "cells": [
  {
   "cell_type": "code",
   "execution_count": 53,
   "id": "3da4a976",
   "metadata": {
    "colab": {
     "base_uri": "https://localhost:8080/",
     "height": 423
    },
    "id": "3da4a976",
    "outputId": "52aa40fc-2698-408e-bbd5-eafedf7d07c1",
    "scrolled": true
   },
   "outputs": [
    {
     "data": {
      "text/html": [
       "<div>\n",
       "<style scoped>\n",
       "    .dataframe tbody tr th:only-of-type {\n",
       "        vertical-align: middle;\n",
       "    }\n",
       "\n",
       "    .dataframe tbody tr th {\n",
       "        vertical-align: top;\n",
       "    }\n",
       "\n",
       "    .dataframe thead th {\n",
       "        text-align: right;\n",
       "    }\n",
       "</style>\n",
       "<table border=\"1\" class=\"dataframe\">\n",
       "  <thead>\n",
       "    <tr style=\"text-align: right;\">\n",
       "      <th></th>\n",
       "      <th>00</th>\n",
       "      <th>COTAHIST</th>\n",
       "      <th>.2</th>\n",
       "      <th>022BOVESPA 2</th>\n",
       "      <th>022</th>\n",
       "      <th>1031</th>\n",
       "      <th>Unnamed: 6</th>\n",
       "      <th>Unnamed: 7</th>\n",
       "      <th>Unnamed: 8</th>\n",
       "      <th>Unnamed: 9</th>\n",
       "      <th>...</th>\n",
       "      <th>Unnamed: 16</th>\n",
       "      <th>Unnamed: 17</th>\n",
       "      <th>Unnamed: 18</th>\n",
       "      <th>Unnamed: 19</th>\n",
       "      <th>Unnamed: 20</th>\n",
       "      <th>Unnamed: 21</th>\n",
       "      <th>Unnamed: 22</th>\n",
       "      <th>Unnamed: 23</th>\n",
       "      <th>Unnamed: 24</th>\n",
       "      <th>Unnamed: 25</th>\n",
       "    </tr>\n",
       "  </thead>\n",
       "  <tbody>\n",
       "    <tr>\n",
       "      <th>0</th>\n",
       "      <td>1</td>\n",
       "      <td>20221003</td>\n",
       "      <td>2.0</td>\n",
       "      <td>ELMD3</td>\n",
       "      <td>10</td>\n",
       "      <td>ELETROMIDIA</td>\n",
       "      <td>ON      NM</td>\n",
       "      <td>NaN</td>\n",
       "      <td>R$</td>\n",
       "      <td>1080.0</td>\n",
       "      <td>...</td>\n",
       "      <td>680.0</td>\n",
       "      <td>216300.0</td>\n",
       "      <td>2.469914e+08</td>\n",
       "      <td>0.0</td>\n",
       "      <td>0.0</td>\n",
       "      <td>99991231.0</td>\n",
       "      <td>1.0</td>\n",
       "      <td>0.0</td>\n",
       "      <td>BRELMDACNOR3</td>\n",
       "      <td>100.0</td>\n",
       "    </tr>\n",
       "    <tr>\n",
       "      <th>1</th>\n",
       "      <td>1</td>\n",
       "      <td>20221003</td>\n",
       "      <td>2.0</td>\n",
       "      <td>OFSA3</td>\n",
       "      <td>10</td>\n",
       "      <td>OUROFINO S/A</td>\n",
       "      <td>ON      NM</td>\n",
       "      <td>NaN</td>\n",
       "      <td>R$</td>\n",
       "      <td>2317.0</td>\n",
       "      <td>...</td>\n",
       "      <td>37.0</td>\n",
       "      <td>7300.0</td>\n",
       "      <td>1.664580e+07</td>\n",
       "      <td>0.0</td>\n",
       "      <td>0.0</td>\n",
       "      <td>99991231.0</td>\n",
       "      <td>1.0</td>\n",
       "      <td>0.0</td>\n",
       "      <td>BROFSAACNOR7</td>\n",
       "      <td>114.0</td>\n",
       "    </tr>\n",
       "    <tr>\n",
       "      <th>2</th>\n",
       "      <td>1</td>\n",
       "      <td>20221003</td>\n",
       "      <td>2.0</td>\n",
       "      <td>SMFT3</td>\n",
       "      <td>10</td>\n",
       "      <td>SMART FIT</td>\n",
       "      <td>ON      NM</td>\n",
       "      <td>NaN</td>\n",
       "      <td>R$</td>\n",
       "      <td>1568.0</td>\n",
       "      <td>...</td>\n",
       "      <td>8482.0</td>\n",
       "      <td>1950600.0</td>\n",
       "      <td>3.148693e+09</td>\n",
       "      <td>0.0</td>\n",
       "      <td>0.0</td>\n",
       "      <td>99991231.0</td>\n",
       "      <td>1.0</td>\n",
       "      <td>0.0</td>\n",
       "      <td>BRSMFTACNOR1</td>\n",
       "      <td>109.0</td>\n",
       "    </tr>\n",
       "    <tr>\n",
       "      <th>3</th>\n",
       "      <td>1</td>\n",
       "      <td>20221003</td>\n",
       "      <td>2.0</td>\n",
       "      <td>HOME34</td>\n",
       "      <td>10</td>\n",
       "      <td>HOME DEPOT</td>\n",
       "      <td>DRN</td>\n",
       "      <td>NaN</td>\n",
       "      <td>R$</td>\n",
       "      <td>5253.0</td>\n",
       "      <td>...</td>\n",
       "      <td>494.0</td>\n",
       "      <td>27860.0</td>\n",
       "      <td>1.467964e+08</td>\n",
       "      <td>0.0</td>\n",
       "      <td>0.0</td>\n",
       "      <td>99991231.0</td>\n",
       "      <td>1.0</td>\n",
       "      <td>0.0</td>\n",
       "      <td>BRHOMEBDR002</td>\n",
       "      <td>143.0</td>\n",
       "    </tr>\n",
       "    <tr>\n",
       "      <th>4</th>\n",
       "      <td>1</td>\n",
       "      <td>20221003</td>\n",
       "      <td>2.0</td>\n",
       "      <td>BRGE3</td>\n",
       "      <td>10</td>\n",
       "      <td>ALFA CONSORC</td>\n",
       "      <td>ON</td>\n",
       "      <td>NaN</td>\n",
       "      <td>R$</td>\n",
       "      <td>995.0</td>\n",
       "      <td>...</td>\n",
       "      <td>2.0</td>\n",
       "      <td>200.0</td>\n",
       "      <td>1.912000e+05</td>\n",
       "      <td>0.0</td>\n",
       "      <td>0.0</td>\n",
       "      <td>99991231.0</td>\n",
       "      <td>1.0</td>\n",
       "      <td>0.0</td>\n",
       "      <td>BRBRGEACNOR6</td>\n",
       "      <td>203.0</td>\n",
       "    </tr>\n",
       "    <tr>\n",
       "      <th>...</th>\n",
       "      <td>...</td>\n",
       "      <td>...</td>\n",
       "      <td>...</td>\n",
       "      <td>...</td>\n",
       "      <td>...</td>\n",
       "      <td>...</td>\n",
       "      <td>...</td>\n",
       "      <td>...</td>\n",
       "      <td>...</td>\n",
       "      <td>...</td>\n",
       "      <td>...</td>\n",
       "      <td>...</td>\n",
       "      <td>...</td>\n",
       "      <td>...</td>\n",
       "      <td>...</td>\n",
       "      <td>...</td>\n",
       "      <td>...</td>\n",
       "      <td>...</td>\n",
       "      <td>...</td>\n",
       "      <td>...</td>\n",
       "      <td>...</td>\n",
       "    </tr>\n",
       "    <tr>\n",
       "      <th>181802</th>\n",
       "      <td>1</td>\n",
       "      <td>20221019</td>\n",
       "      <td>78.0</td>\n",
       "      <td>ITSAI99</td>\n",
       "      <td>70</td>\n",
       "      <td>ITSA</td>\n",
       "      <td>PN      N1</td>\n",
       "      <td>0.0</td>\n",
       "      <td>R$</td>\n",
       "      <td>243.0</td>\n",
       "      <td>...</td>\n",
       "      <td>3.0</td>\n",
       "      <td>1500.0</td>\n",
       "      <td>3.639000e+05</td>\n",
       "      <td>906.0</td>\n",
       "      <td>0.0</td>\n",
       "      <td>20230915.0</td>\n",
       "      <td>1.0</td>\n",
       "      <td>0.0</td>\n",
       "      <td>BRITSAACNPR7</td>\n",
       "      <td>412.0</td>\n",
       "    </tr>\n",
       "    <tr>\n",
       "      <th>181803</th>\n",
       "      <td>1</td>\n",
       "      <td>20221021</td>\n",
       "      <td>78.0</td>\n",
       "      <td>ITSAI99</td>\n",
       "      <td>70</td>\n",
       "      <td>ITSA</td>\n",
       "      <td>PN      N1</td>\n",
       "      <td>0.0</td>\n",
       "      <td>R$</td>\n",
       "      <td>268.0</td>\n",
       "      <td>...</td>\n",
       "      <td>1.0</td>\n",
       "      <td>500.0</td>\n",
       "      <td>1.340000e+05</td>\n",
       "      <td>906.0</td>\n",
       "      <td>0.0</td>\n",
       "      <td>20230915.0</td>\n",
       "      <td>1.0</td>\n",
       "      <td>0.0</td>\n",
       "      <td>BRITSAACNPR7</td>\n",
       "      <td>412.0</td>\n",
       "    </tr>\n",
       "    <tr>\n",
       "      <th>181804</th>\n",
       "      <td>1</td>\n",
       "      <td>20221024</td>\n",
       "      <td>78.0</td>\n",
       "      <td>ITSAI99</td>\n",
       "      <td>70</td>\n",
       "      <td>ITSA</td>\n",
       "      <td>PN      N1</td>\n",
       "      <td>0.0</td>\n",
       "      <td>R$</td>\n",
       "      <td>259.0</td>\n",
       "      <td>...</td>\n",
       "      <td>1.0</td>\n",
       "      <td>1000.0</td>\n",
       "      <td>2.590000e+05</td>\n",
       "      <td>906.0</td>\n",
       "      <td>0.0</td>\n",
       "      <td>20230915.0</td>\n",
       "      <td>1.0</td>\n",
       "      <td>0.0</td>\n",
       "      <td>BRITSAACNPR7</td>\n",
       "      <td>412.0</td>\n",
       "    </tr>\n",
       "    <tr>\n",
       "      <th>181805</th>\n",
       "      <td>1</td>\n",
       "      <td>20221025</td>\n",
       "      <td>78.0</td>\n",
       "      <td>ITSAI99</td>\n",
       "      <td>70</td>\n",
       "      <td>ITSA</td>\n",
       "      <td>PN      N1</td>\n",
       "      <td>0.0</td>\n",
       "      <td>R$</td>\n",
       "      <td>255.0</td>\n",
       "      <td>...</td>\n",
       "      <td>4.0</td>\n",
       "      <td>1100.0</td>\n",
       "      <td>2.794000e+05</td>\n",
       "      <td>906.0</td>\n",
       "      <td>0.0</td>\n",
       "      <td>20230915.0</td>\n",
       "      <td>1.0</td>\n",
       "      <td>0.0</td>\n",
       "      <td>BRITSAACNPR7</td>\n",
       "      <td>412.0</td>\n",
       "    </tr>\n",
       "    <tr>\n",
       "      <th>181806</th>\n",
       "      <td>99</td>\n",
       "      <td>COTAHIST</td>\n",
       "      <td>0.2</td>\n",
       "      <td>022BOVESPA 2</td>\n",
       "      <td>22</td>\n",
       "      <td>103100000181</td>\n",
       "      <td>808</td>\n",
       "      <td>NaN</td>\n",
       "      <td>NaN</td>\n",
       "      <td>NaN</td>\n",
       "      <td>...</td>\n",
       "      <td>NaN</td>\n",
       "      <td>NaN</td>\n",
       "      <td>NaN</td>\n",
       "      <td>NaN</td>\n",
       "      <td>NaN</td>\n",
       "      <td>NaN</td>\n",
       "      <td>NaN</td>\n",
       "      <td>NaN</td>\n",
       "      <td>NaN</td>\n",
       "      <td>NaN</td>\n",
       "    </tr>\n",
       "  </tbody>\n",
       "</table>\n",
       "<p>181807 rows × 26 columns</p>\n",
       "</div>"
      ],
      "text/plain": [
       "        00  COTAHIST    .2  022BOVESPA 2  022          1031  Unnamed: 6  \\\n",
       "0        1  20221003   2.0         ELMD3   10   ELETROMIDIA  ON      NM   \n",
       "1        1  20221003   2.0         OFSA3   10  OUROFINO S/A  ON      NM   \n",
       "2        1  20221003   2.0         SMFT3   10     SMART FIT  ON      NM   \n",
       "3        1  20221003   2.0        HOME34   10    HOME DEPOT         DRN   \n",
       "4        1  20221003   2.0         BRGE3   10  ALFA CONSORC          ON   \n",
       "...     ..       ...   ...           ...  ...           ...         ...   \n",
       "181802   1  20221019  78.0       ITSAI99   70          ITSA  PN      N1   \n",
       "181803   1  20221021  78.0       ITSAI99   70          ITSA  PN      N1   \n",
       "181804   1  20221024  78.0       ITSAI99   70          ITSA  PN      N1   \n",
       "181805   1  20221025  78.0       ITSAI99   70          ITSA  PN      N1   \n",
       "181806  99  COTAHIST   0.2  022BOVESPA 2   22  103100000181         808   \n",
       "\n",
       "        Unnamed: 7 Unnamed: 8  Unnamed: 9  ...  Unnamed: 16  Unnamed: 17  \\\n",
       "0              NaN         R$      1080.0  ...        680.0     216300.0   \n",
       "1              NaN         R$      2317.0  ...         37.0       7300.0   \n",
       "2              NaN         R$      1568.0  ...       8482.0    1950600.0   \n",
       "3              NaN         R$      5253.0  ...        494.0      27860.0   \n",
       "4              NaN         R$       995.0  ...          2.0        200.0   \n",
       "...            ...        ...         ...  ...          ...          ...   \n",
       "181802         0.0         R$       243.0  ...          3.0       1500.0   \n",
       "181803         0.0         R$       268.0  ...          1.0        500.0   \n",
       "181804         0.0         R$       259.0  ...          1.0       1000.0   \n",
       "181805         0.0         R$       255.0  ...          4.0       1100.0   \n",
       "181806         NaN        NaN         NaN  ...          NaN          NaN   \n",
       "\n",
       "         Unnamed: 18  Unnamed: 19  Unnamed: 20  Unnamed: 21  Unnamed: 22  \\\n",
       "0       2.469914e+08          0.0          0.0   99991231.0          1.0   \n",
       "1       1.664580e+07          0.0          0.0   99991231.0          1.0   \n",
       "2       3.148693e+09          0.0          0.0   99991231.0          1.0   \n",
       "3       1.467964e+08          0.0          0.0   99991231.0          1.0   \n",
       "4       1.912000e+05          0.0          0.0   99991231.0          1.0   \n",
       "...              ...          ...          ...          ...          ...   \n",
       "181802  3.639000e+05        906.0          0.0   20230915.0          1.0   \n",
       "181803  1.340000e+05        906.0          0.0   20230915.0          1.0   \n",
       "181804  2.590000e+05        906.0          0.0   20230915.0          1.0   \n",
       "181805  2.794000e+05        906.0          0.0   20230915.0          1.0   \n",
       "181806           NaN          NaN          NaN          NaN          NaN   \n",
       "\n",
       "        Unnamed: 23   Unnamed: 24  Unnamed: 25  \n",
       "0               0.0  BRELMDACNOR3        100.0  \n",
       "1               0.0  BROFSAACNOR7        114.0  \n",
       "2               0.0  BRSMFTACNOR1        109.0  \n",
       "3               0.0  BRHOMEBDR002        143.0  \n",
       "4               0.0  BRBRGEACNOR6        203.0  \n",
       "...             ...           ...          ...  \n",
       "181802          0.0  BRITSAACNPR7        412.0  \n",
       "181803          0.0  BRITSAACNPR7        412.0  \n",
       "181804          0.0  BRITSAACNPR7        412.0  \n",
       "181805          0.0  BRITSAACNPR7        412.0  \n",
       "181806          NaN           NaN          NaN  \n",
       "\n",
       "[181807 rows x 26 columns]"
      ]
     },
     "execution_count": 53,
     "metadata": {},
     "output_type": "execute_result"
    }
   ],
   "source": [
    "import pandas as pd\n",
    "import matplotlib.pyplot as plt\n",
    "import seaborn as sns\n",
    "import numpy as np\n",
    "from scipy.stats import variation\n",
    "from anapy import shifting\n",
    "## Séries históricas disponíveis em\n",
    "## http://www.b3.com.br/pt_br/market-data-e-indices/servicos-de-dados/market-data/historico/mercado-a-vista/series-historicas/\n",
    "arquivo_bovespa = 'datasets/COTAHIST_M102022.TXT'\n",
    "\n",
    "\n",
    "## Estrutura do arquivo disponível em \n",
    "## http://www.b3.com.br/data/files/33/67/B9/50/D84057102C784E47AC094EA8/SeriesHistoricas_Layout.pdf\n",
    "tamanho_campos=[2,8,2,12,3,12,10,3,4,13,13,13,13,13,13,13,5,18,18,13,1,8,7,13,12,3]\n",
    "\n",
    "dados_acoes=pd.read_fwf(arquivo_bovespa, widths=tamanho_campos, header=0)\n",
    "dados_acoes"
   ]
  },
  {
   "cell_type": "code",
   "execution_count": 24,
   "id": "ffe5v1fdDXWx",
   "metadata": {
    "colab": {
     "base_uri": "https://localhost:8080/"
    },
    "id": "ffe5v1fdDXWx",
    "outputId": "6ec422a2-001d-42d3-cf30-80ddf1a1ffb6"
   },
   "outputs": [],
   "source": [
    "#from google.colab import drive\n",
    "#drive.mount('/content/drive')"
   ]
  },
  {
   "cell_type": "markdown",
   "id": "Ixa8c3jiGIDg",
   "metadata": {
    "id": "Ixa8c3jiGIDg"
   },
   "source": [
    "## Pré-processamento dos dados \n",
    "\n",
    "#### Etapa 1 - Estruturação\n",
    "\n",
    " "
   ]
  },
  {
   "cell_type": "markdown",
   "id": "yma3qTZ-OESQ",
   "metadata": {
    "id": "yma3qTZ-OESQ"
   },
   "source": [
    "##### Nomeação de colunas, eliminação da última linha e ajustes de valores com vírgula"
   ]
  },
  {
   "cell_type": "code",
   "execution_count": 25,
   "id": "49df83c4",
   "metadata": {
    "colab": {
     "base_uri": "https://localhost:8080/",
     "height": 522
    },
    "id": "49df83c4",
    "outputId": "ee882581-2ad2-411a-be72-72cee0a353bd"
   },
   "outputs": [],
   "source": [
    "## Nomear as colunas\n",
    "\n",
    "dados_acoes.columns = [\n",
    "\"tipo_registro\",\n",
    "\"data_pregao\",\n",
    "\"cod_bdi\",\n",
    "\"cod_negociacao\",\n",
    "\"tipo_mercado\",\n",
    "\"empresa\",\n",
    "\"especificacao_papel\",\n",
    "\"prazo_dias_merc_termo\",\n",
    "\"moeda_referencia\",\n",
    "\"preco_abertura\",\n",
    "\"preco_maximo\",\n",
    "\"preco_minimo\",\n",
    "\"preco_medio\",\n",
    "\"preco_ultimo_negocio\",\n",
    "\"preco_melhor_oferta_compra\",\n",
    "\"preco_melhor_oferta_venda\",\n",
    "\"numero_negocios\",\n",
    "\"quantidade_papeis_negociados\",\n",
    "\"volume_total_negociado\",\n",
    "\"preco_exercicio\",\n",
    "\"ìndicador_correcao_precos\",\n",
    "\"data_vencimento\" ,\n",
    "\"fator_cotacao\",\n",
    "\"preco_exercicio_pontos\",\n",
    "\"codigo_isin\",\n",
    "\"num_distribuicao_papel\"]\n",
    "\n",
    "# Eliminar a última linha\n",
    "linha=len(dados_acoes[\"data_pregao\"])\n",
    "dados_acoes=dados_acoes.drop(linha-1)\n",
    "\n",
    "# Ajustar valores com virgula (dividir os valores dessas colunas por 100)\n",
    "listaVirgula=[\n",
    "\"preco_abertura\",\n",
    "\"preco_maximo\",\n",
    "\"preco_minimo\",\n",
    "\"preco_medio\",\n",
    "\"preco_ultimo_negocio\",\n",
    "\"preco_melhor_oferta_compra\",\n",
    "\"preco_melhor_oferta_venda\",\n",
    "\"volume_total_negociado\",\n",
    "\"preco_exercicio\",\n",
    "\"preco_exercicio_pontos\"\n",
    "]\n",
    "\n",
    "for coluna in listaVirgula:\n",
    "    dados_acoes[coluna]=[i/100. for i in dados_acoes[coluna]]\n"
   ]
  },
  {
   "cell_type": "markdown",
   "id": "kvmxmEJlOBMQ",
   "metadata": {
    "id": "kvmxmEJlOBMQ"
   },
   "source": [
    "##### Tipos de dados"
   ]
  },
  {
   "cell_type": "code",
   "execution_count": 26,
   "id": "CNxUGRsbMpuY",
   "metadata": {
    "colab": {
     "base_uri": "https://localhost:8080/"
    },
    "id": "CNxUGRsbMpuY",
    "outputId": "b1c6145c-aa7b-4e9d-a603-0b5666a1ae8f"
   },
   "outputs": [
    {
     "name": "stdout",
     "output_type": "stream",
     "text": [
      "<class 'pandas.core.frame.DataFrame'>\n",
      "RangeIndex: 181806 entries, 0 to 181805\n",
      "Data columns (total 26 columns):\n",
      " #   Column                        Non-Null Count   Dtype  \n",
      "---  ------                        --------------   -----  \n",
      " 0   tipo_registro                 181806 non-null  int64  \n",
      " 1   data_pregao                   181806 non-null  object \n",
      " 2   cod_bdi                       181806 non-null  float64\n",
      " 3   cod_negociacao                181806 non-null  object \n",
      " 4   tipo_mercado                  181806 non-null  int64  \n",
      " 5   empresa                       181806 non-null  object \n",
      " 6   especificacao_papel           181806 non-null  object \n",
      " 7   prazo_dias_merc_termo         148349 non-null  float64\n",
      " 8   moeda_referencia              181806 non-null  object \n",
      " 9   preco_abertura                181806 non-null  float64\n",
      " 10  preco_maximo                  181806 non-null  float64\n",
      " 11  preco_minimo                  181806 non-null  float64\n",
      " 12  preco_medio                   181806 non-null  float64\n",
      " 13  preco_ultimo_negocio          181806 non-null  float64\n",
      " 14  preco_melhor_oferta_compra    181806 non-null  float64\n",
      " 15  preco_melhor_oferta_venda     181806 non-null  float64\n",
      " 16  numero_negocios               181806 non-null  float64\n",
      " 17  quantidade_papeis_negociados  181806 non-null  float64\n",
      " 18  volume_total_negociado        181806 non-null  float64\n",
      " 19  preco_exercicio               181806 non-null  float64\n",
      " 20  ìndicador_correcao_precos     181806 non-null  float64\n",
      " 21  data_vencimento               181806 non-null  float64\n",
      " 22  fator_cotacao                 181806 non-null  float64\n",
      " 23  preco_exercicio_pontos        181806 non-null  float64\n",
      " 24  codigo_isin                   181806 non-null  object \n",
      " 25  num_distribuicao_papel        181806 non-null  float64\n",
      "dtypes: float64(18), int64(2), object(6)\n",
      "memory usage: 36.1+ MB\n",
      "<class 'pandas.core.frame.DataFrame'>\n",
      "RangeIndex: 181806 entries, 0 to 181805\n",
      "Data columns (total 26 columns):\n",
      " #   Column                        Non-Null Count   Dtype         \n",
      "---  ------                        --------------   -----         \n",
      " 0   tipo_registro                 181806 non-null  int64         \n",
      " 1   data_pregao                   181806 non-null  datetime64[ns]\n",
      " 2   cod_bdi                       181806 non-null  float64       \n",
      " 3   cod_negociacao                181806 non-null  |S9           \n",
      " 4   tipo_mercado                  181806 non-null  int64         \n",
      " 5   empresa                       181806 non-null  object        \n",
      " 6   especificacao_papel           181806 non-null  object        \n",
      " 7   prazo_dias_merc_termo         148349 non-null  float64       \n",
      " 8   moeda_referencia              181806 non-null  object        \n",
      " 9   preco_abertura                181806 non-null  float64       \n",
      " 10  preco_maximo                  181806 non-null  float64       \n",
      " 11  preco_minimo                  181806 non-null  float64       \n",
      " 12  preco_medio                   181806 non-null  float64       \n",
      " 13  preco_ultimo_negocio          181806 non-null  float64       \n",
      " 14  preco_melhor_oferta_compra    181806 non-null  float64       \n",
      " 15  preco_melhor_oferta_venda     181806 non-null  float64       \n",
      " 16  numero_negocios               181806 non-null  float64       \n",
      " 17  quantidade_papeis_negociados  181806 non-null  float64       \n",
      " 18  volume_total_negociado        181806 non-null  float64       \n",
      " 19  preco_exercicio               181806 non-null  float64       \n",
      " 20  ìndicador_correcao_precos     181806 non-null  float64       \n",
      " 21  data_vencimento               181806 non-null  float64       \n",
      " 22  fator_cotacao                 181806 non-null  float64       \n",
      " 23  preco_exercicio_pontos        181806 non-null  float64       \n",
      " 24  codigo_isin                   181806 non-null  |S12          \n",
      " 25  num_distribuicao_papel        181806 non-null  float64       \n",
      "dtypes: bytes72(1), bytes96(1), datetime64[ns](1), float64(18), int64(2), object(3)\n",
      "memory usage: 36.9+ MB\n"
     ]
    }
   ],
   "source": [
    "## Informações das variáveis\n",
    "dados_acoes.info()\n",
    "\n",
    "## Corrigir tipos de dados\n",
    "dados_acoes[\"data_pregao\"]  = pd.to_datetime(dados_acoes[\"data_pregao\"],infer_datetime_format=True) #Transforma para o tipo datetime64\n",
    "dados_acoes[\"cod_negociacao\"] = dados_acoes[\"cod_negociacao\"].astype('|S') #Transforma o objeto em string\n",
    "#dados_acoes[\"empresa\"] = dados_acoes[\"empresa\"].astype('|S') #Transforma o objeto em string\n",
    "dados_acoes[\"codigo_isin\"] = dados_acoes[\"codigo_isin\"].astype('|S') #Transforma o objeto em string\n",
    "\n",
    "\n",
    "dados_acoes.info()"
   ]
  },
  {
   "cell_type": "markdown",
   "id": "4fKUpXnzLKdw",
   "metadata": {
    "id": "4fKUpXnzLKdw"
   },
   "source": [
    "#### Etapa 2 - Remoção de Dados Faltantes"
   ]
  },
  {
   "cell_type": "code",
   "execution_count": 27,
   "id": "_BTQMfMDI8Ew",
   "metadata": {
    "colab": {
     "base_uri": "https://localhost:8080/"
    },
    "id": "_BTQMfMDI8Ew",
    "outputId": "477c59f0-cca7-4032-d574-51a92891d926"
   },
   "outputs": [
    {
     "data": {
      "text/plain": [
       "tipo_registro                       0\n",
       "data_pregao                         0\n",
       "cod_bdi                             0\n",
       "cod_negociacao                      0\n",
       "tipo_mercado                        0\n",
       "empresa                             0\n",
       "especificacao_papel                 0\n",
       "prazo_dias_merc_termo           33457\n",
       "moeda_referencia                    0\n",
       "preco_abertura                      0\n",
       "preco_maximo                        0\n",
       "preco_minimo                        0\n",
       "preco_medio                         0\n",
       "preco_ultimo_negocio                0\n",
       "preco_melhor_oferta_compra          0\n",
       "preco_melhor_oferta_venda           0\n",
       "numero_negocios                     0\n",
       "quantidade_papeis_negociados        0\n",
       "volume_total_negociado              0\n",
       "preco_exercicio                     0\n",
       "ìndicador_correcao_precos           0\n",
       "data_vencimento                     0\n",
       "fator_cotacao                       0\n",
       "preco_exercicio_pontos              0\n",
       "codigo_isin                         0\n",
       "num_distribuicao_papel              0\n",
       "dtype: int64"
      ]
     },
     "execution_count": 27,
     "metadata": {},
     "output_type": "execute_result"
    }
   ],
   "source": [
    "#Identificar dados faltantes\n",
    "dados_acoes.isnull().sum()"
   ]
  },
  {
   "cell_type": "code",
   "execution_count": 28,
   "id": "7mAdMCE2I6Wg",
   "metadata": {
    "colab": {
     "base_uri": "https://localhost:8080/"
    },
    "id": "7mAdMCE2I6Wg",
    "outputId": "bec2b543-4e1f-43a0-b93f-344cfd94520d"
   },
   "outputs": [
    {
     "data": {
      "text/plain": [
       "tipo_registro                   0\n",
       "data_pregao                     0\n",
       "cod_bdi                         0\n",
       "cod_negociacao                  0\n",
       "tipo_mercado                    0\n",
       "empresa                         0\n",
       "especificacao_papel             0\n",
       "moeda_referencia                0\n",
       "preco_abertura                  0\n",
       "preco_maximo                    0\n",
       "preco_minimo                    0\n",
       "preco_medio                     0\n",
       "preco_ultimo_negocio            0\n",
       "preco_melhor_oferta_compra      0\n",
       "preco_melhor_oferta_venda       0\n",
       "numero_negocios                 0\n",
       "quantidade_papeis_negociados    0\n",
       "volume_total_negociado          0\n",
       "preco_exercicio                 0\n",
       "ìndicador_correcao_precos       0\n",
       "data_vencimento                 0\n",
       "fator_cotacao                   0\n",
       "preco_exercicio_pontos          0\n",
       "codigo_isin                     0\n",
       "num_distribuicao_papel          0\n",
       "dtype: int64"
      ]
     },
     "execution_count": 28,
     "metadata": {},
     "output_type": "execute_result"
    }
   ],
   "source": [
    "## Remover dados faltantes\n",
    "dados_acoes = dados_acoes.dropna(axis=1)\n",
    "dados_acoes.isnull().sum()"
   ]
  },
  {
   "cell_type": "markdown",
   "id": "vu7YQMXBI1XB",
   "metadata": {
    "id": "vu7YQMXBI1XB"
   },
   "source": [
    "##### Representação Gráfica e Análise Descritiva"
   ]
  },
  {
   "cell_type": "code",
   "execution_count": null,
   "id": "VHt1nLnIWrC7",
   "metadata": {
    "id": "VHt1nLnIWrC7"
   },
   "outputs": [],
   "source": []
  },
  {
   "cell_type": "markdown",
   "id": "0UxWmWduVLJR",
   "metadata": {
    "id": "0UxWmWduVLJR"
   },
   "source": [
    "###### Análise da coluna Indicadores de Correção de Preços"
   ]
  },
  {
   "cell_type": "code",
   "execution_count": 29,
   "id": "S5fcOaCGQwK5",
   "metadata": {
    "colab": {
     "base_uri": "https://localhost:8080/",
     "height": 302
    },
    "id": "S5fcOaCGQwK5",
    "outputId": "ce03c589-3074-4a70-9a0b-90fda05f6beb"
   },
   "outputs": [
    {
     "name": "stdout",
     "output_type": "stream",
     "text": [
      "{'mode': 0    0.0\n",
      "Name: ìndicador_correcao_precos, dtype: float64, 'mean': 0.0, 'meadian': 0.0}\n"
     ]
    },
    {
     "data": {
      "image/png": "[encoded data removed]",
      "text/plain": [
       "<Figure size 640x480 with 1 Axes>"
      ]
     },
     "metadata": {},
     "output_type": "display_data"
    }
   ],
   "source": [
    "# Parecem haver dados ruidosos aqui\n",
    "plt.hist(x = dados_acoes[\"ìndicador_correcao_precos\"], rwidth = 0.2)\n",
    "indicador_correcao_precos = {\n",
    "    \"mode\" : dados_acoes[\"ìndicador_correcao_precos\"].mode() ,\n",
    "    \"mean\" : dados_acoes[\"ìndicador_correcao_precos\"].mean() ,\n",
    "    \"meadian\" : dados_acoes[\"ìndicador_correcao_precos\"].median()\n",
    "}\n",
    "# Essa coluna não revela nada relevante\n",
    "print(indicador_correcao_precos)\n",
    "#Remoção da coluna dados_acoes[\"ìndicador_correcao_precos\"]\n",
    "dados_acoes = dados_acoes.drop([\"ìndicador_correcao_precos\"], axis = \"columns\")"
   ]
  },
  {
   "cell_type": "code",
   "execution_count": null,
   "id": "4xYyKo_gZAyS",
   "metadata": {
    "id": "4xYyKo_gZAyS"
   },
   "outputs": [],
   "source": []
  },
  {
   "cell_type": "markdown",
   "id": "2fB-sFReVQvo",
   "metadata": {
    "id": "2fB-sFReVQvo"
   },
   "source": [
    "###### Análise da coluna \"preco_exercicio_pontos\""
   ]
  },
  {
   "cell_type": "code",
   "execution_count": 30,
   "id": "3ZY4ABVPVDBD",
   "metadata": {
    "colab": {
     "base_uri": "https://localhost:8080/",
     "height": 315
    },
    "id": "3ZY4ABVPVDBD",
    "outputId": "5b9dddbd-474f-4242-d8ec-5fb9a463de66"
   },
   "outputs": [
    {
     "name": "stdout",
     "output_type": "stream",
     "text": [
      "{'mode': 0    0.0\n",
      "Name: preco_exercicio_pontos, dtype: float64, 'mean': 16459467.784341551, 'meadian': 0.0}\n"
     ]
    },
    {
     "data": {
      "image/png": "[encoded data removed]",
      "text/plain": [
       "<Figure size 640x480 with 1 Axes>"
      ]
     },
     "metadata": {},
     "output_type": "display_data"
    }
   ],
   "source": [
    "# Parecem haver dados ruidosos aqui\n",
    "plt.hist(x = dados_acoes[\"preco_exercicio_pontos\"], rwidth = 0.2)\n",
    "preco_exercicio_pontos = {\n",
    "    \"mode\" : dados_acoes[\"preco_exercicio_pontos\"].mode() ,\n",
    "    \"mean\" : dados_acoes[\"preco_exercicio_pontos\"].mean() ,\n",
    "    \"meadian\" : dados_acoes[\"preco_exercicio_pontos\"].median()\n",
    "}\n",
    "# Essa coluna não revela nada relevante\n",
    "print(preco_exercicio_pontos)\n",
    "# Remoção da coluna\n",
    "dados_acoes = dados_acoes.drop([\"preco_exercicio_pontos\"], axis = \"columns\")"
   ]
  },
  {
   "cell_type": "code",
   "execution_count": 31,
   "id": "VjRbtuQdWPGa",
   "metadata": {
    "colab": {
     "base_uri": "https://localhost:8080/",
     "height": 522
    },
    "id": "VjRbtuQdWPGa",
    "outputId": "de7d7811-545a-42d5-89b7-13f40d0baa4f"
   },
   "outputs": [
    {
     "data": {
      "text/html": [
       "<div>\n",
       "<style scoped>\n",
       "    .dataframe tbody tr th:only-of-type {\n",
       "        vertical-align: middle;\n",
       "    }\n",
       "\n",
       "    .dataframe tbody tr th {\n",
       "        vertical-align: top;\n",
       "    }\n",
       "\n",
       "    .dataframe thead th {\n",
       "        text-align: right;\n",
       "    }\n",
       "</style>\n",
       "<table border=\"1\" class=\"dataframe\">\n",
       "  <thead>\n",
       "    <tr style=\"text-align: right;\">\n",
       "      <th></th>\n",
       "      <th>tipo_registro</th>\n",
       "      <th>data_pregao</th>\n",
       "      <th>cod_bdi</th>\n",
       "      <th>cod_negociacao</th>\n",
       "      <th>tipo_mercado</th>\n",
       "      <th>empresa</th>\n",
       "      <th>especificacao_papel</th>\n",
       "      <th>moeda_referencia</th>\n",
       "      <th>preco_abertura</th>\n",
       "      <th>preco_maximo</th>\n",
       "      <th>...</th>\n",
       "      <th>preco_melhor_oferta_compra</th>\n",
       "      <th>preco_melhor_oferta_venda</th>\n",
       "      <th>numero_negocios</th>\n",
       "      <th>quantidade_papeis_negociados</th>\n",
       "      <th>volume_total_negociado</th>\n",
       "      <th>preco_exercicio</th>\n",
       "      <th>data_vencimento</th>\n",
       "      <th>fator_cotacao</th>\n",
       "      <th>codigo_isin</th>\n",
       "      <th>num_distribuicao_papel</th>\n",
       "    </tr>\n",
       "  </thead>\n",
       "  <tbody>\n",
       "    <tr>\n",
       "      <th>0</th>\n",
       "      <td>1</td>\n",
       "      <td>2022-10-03</td>\n",
       "      <td>2.0</td>\n",
       "      <td>b'ELMD3'</td>\n",
       "      <td>10</td>\n",
       "      <td>ELETROMIDIA</td>\n",
       "      <td>ON      NM</td>\n",
       "      <td>R$</td>\n",
       "      <td>10.80</td>\n",
       "      <td>11.73</td>\n",
       "      <td>...</td>\n",
       "      <td>11.40</td>\n",
       "      <td>11.44</td>\n",
       "      <td>680.0</td>\n",
       "      <td>216300.0</td>\n",
       "      <td>2469914.0</td>\n",
       "      <td>0.00</td>\n",
       "      <td>99991231.0</td>\n",
       "      <td>1.0</td>\n",
       "      <td>b'BRELMDACNOR3'</td>\n",
       "      <td>100.0</td>\n",
       "    </tr>\n",
       "    <tr>\n",
       "      <th>1</th>\n",
       "      <td>1</td>\n",
       "      <td>2022-10-03</td>\n",
       "      <td>2.0</td>\n",
       "      <td>b'OFSA3'</td>\n",
       "      <td>10</td>\n",
       "      <td>OUROFINO S/A</td>\n",
       "      <td>ON      NM</td>\n",
       "      <td>R$</td>\n",
       "      <td>23.17</td>\n",
       "      <td>23.17</td>\n",
       "      <td>...</td>\n",
       "      <td>22.50</td>\n",
       "      <td>22.75</td>\n",
       "      <td>37.0</td>\n",
       "      <td>7300.0</td>\n",
       "      <td>166458.0</td>\n",
       "      <td>0.00</td>\n",
       "      <td>99991231.0</td>\n",
       "      <td>1.0</td>\n",
       "      <td>b'BROFSAACNOR7'</td>\n",
       "      <td>114.0</td>\n",
       "    </tr>\n",
       "    <tr>\n",
       "      <th>2</th>\n",
       "      <td>1</td>\n",
       "      <td>2022-10-03</td>\n",
       "      <td>2.0</td>\n",
       "      <td>b'SMFT3'</td>\n",
       "      <td>10</td>\n",
       "      <td>SMART FIT</td>\n",
       "      <td>ON      NM</td>\n",
       "      <td>R$</td>\n",
       "      <td>15.68</td>\n",
       "      <td>16.60</td>\n",
       "      <td>...</td>\n",
       "      <td>16.07</td>\n",
       "      <td>16.12</td>\n",
       "      <td>8482.0</td>\n",
       "      <td>1950600.0</td>\n",
       "      <td>31486931.0</td>\n",
       "      <td>0.00</td>\n",
       "      <td>99991231.0</td>\n",
       "      <td>1.0</td>\n",
       "      <td>b'BRSMFTACNOR1'</td>\n",
       "      <td>109.0</td>\n",
       "    </tr>\n",
       "    <tr>\n",
       "      <th>3</th>\n",
       "      <td>1</td>\n",
       "      <td>2022-10-03</td>\n",
       "      <td>2.0</td>\n",
       "      <td>b'HOME34'</td>\n",
       "      <td>10</td>\n",
       "      <td>HOME DEPOT</td>\n",
       "      <td>DRN</td>\n",
       "      <td>R$</td>\n",
       "      <td>52.53</td>\n",
       "      <td>52.84</td>\n",
       "      <td>...</td>\n",
       "      <td>51.12</td>\n",
       "      <td>52.76</td>\n",
       "      <td>494.0</td>\n",
       "      <td>27860.0</td>\n",
       "      <td>1467963.7</td>\n",
       "      <td>0.00</td>\n",
       "      <td>99991231.0</td>\n",
       "      <td>1.0</td>\n",
       "      <td>b'BRHOMEBDR002'</td>\n",
       "      <td>143.0</td>\n",
       "    </tr>\n",
       "    <tr>\n",
       "      <th>4</th>\n",
       "      <td>1</td>\n",
       "      <td>2022-10-03</td>\n",
       "      <td>2.0</td>\n",
       "      <td>b'BRGE3'</td>\n",
       "      <td>10</td>\n",
       "      <td>ALFA CONSORC</td>\n",
       "      <td>ON</td>\n",
       "      <td>R$</td>\n",
       "      <td>9.95</td>\n",
       "      <td>9.95</td>\n",
       "      <td>...</td>\n",
       "      <td>9.00</td>\n",
       "      <td>9.70</td>\n",
       "      <td>2.0</td>\n",
       "      <td>200.0</td>\n",
       "      <td>1912.0</td>\n",
       "      <td>0.00</td>\n",
       "      <td>99991231.0</td>\n",
       "      <td>1.0</td>\n",
       "      <td>b'BRBRGEACNOR6'</td>\n",
       "      <td>203.0</td>\n",
       "    </tr>\n",
       "    <tr>\n",
       "      <th>...</th>\n",
       "      <td>...</td>\n",
       "      <td>...</td>\n",
       "      <td>...</td>\n",
       "      <td>...</td>\n",
       "      <td>...</td>\n",
       "      <td>...</td>\n",
       "      <td>...</td>\n",
       "      <td>...</td>\n",
       "      <td>...</td>\n",
       "      <td>...</td>\n",
       "      <td>...</td>\n",
       "      <td>...</td>\n",
       "      <td>...</td>\n",
       "      <td>...</td>\n",
       "      <td>...</td>\n",
       "      <td>...</td>\n",
       "      <td>...</td>\n",
       "      <td>...</td>\n",
       "      <td>...</td>\n",
       "      <td>...</td>\n",
       "      <td>...</td>\n",
       "    </tr>\n",
       "    <tr>\n",
       "      <th>181801</th>\n",
       "      <td>1</td>\n",
       "      <td>2022-10-18</td>\n",
       "      <td>78.0</td>\n",
       "      <td>b'ITSAI99'</td>\n",
       "      <td>70</td>\n",
       "      <td>ITSA</td>\n",
       "      <td>PN      N1</td>\n",
       "      <td>R$</td>\n",
       "      <td>2.37</td>\n",
       "      <td>2.37</td>\n",
       "      <td>...</td>\n",
       "      <td>2.43</td>\n",
       "      <td>3.00</td>\n",
       "      <td>1.0</td>\n",
       "      <td>1000.0</td>\n",
       "      <td>2370.0</td>\n",
       "      <td>9.06</td>\n",
       "      <td>20230915.0</td>\n",
       "      <td>1.0</td>\n",
       "      <td>b'BRITSAACNPR7'</td>\n",
       "      <td>412.0</td>\n",
       "    </tr>\n",
       "    <tr>\n",
       "      <th>181802</th>\n",
       "      <td>1</td>\n",
       "      <td>2022-10-19</td>\n",
       "      <td>78.0</td>\n",
       "      <td>b'ITSAI99'</td>\n",
       "      <td>70</td>\n",
       "      <td>ITSA</td>\n",
       "      <td>PN      N1</td>\n",
       "      <td>R$</td>\n",
       "      <td>2.43</td>\n",
       "      <td>2.43</td>\n",
       "      <td>...</td>\n",
       "      <td>0.06</td>\n",
       "      <td>3.00</td>\n",
       "      <td>3.0</td>\n",
       "      <td>1500.0</td>\n",
       "      <td>3639.0</td>\n",
       "      <td>9.06</td>\n",
       "      <td>20230915.0</td>\n",
       "      <td>1.0</td>\n",
       "      <td>b'BRITSAACNPR7'</td>\n",
       "      <td>412.0</td>\n",
       "    </tr>\n",
       "    <tr>\n",
       "      <th>181803</th>\n",
       "      <td>1</td>\n",
       "      <td>2022-10-21</td>\n",
       "      <td>78.0</td>\n",
       "      <td>b'ITSAI99'</td>\n",
       "      <td>70</td>\n",
       "      <td>ITSA</td>\n",
       "      <td>PN      N1</td>\n",
       "      <td>R$</td>\n",
       "      <td>2.68</td>\n",
       "      <td>2.68</td>\n",
       "      <td>...</td>\n",
       "      <td>2.74</td>\n",
       "      <td>0.00</td>\n",
       "      <td>1.0</td>\n",
       "      <td>500.0</td>\n",
       "      <td>1340.0</td>\n",
       "      <td>9.06</td>\n",
       "      <td>20230915.0</td>\n",
       "      <td>1.0</td>\n",
       "      <td>b'BRITSAACNPR7'</td>\n",
       "      <td>412.0</td>\n",
       "    </tr>\n",
       "    <tr>\n",
       "      <th>181804</th>\n",
       "      <td>1</td>\n",
       "      <td>2022-10-24</td>\n",
       "      <td>78.0</td>\n",
       "      <td>b'ITSAI99'</td>\n",
       "      <td>70</td>\n",
       "      <td>ITSA</td>\n",
       "      <td>PN      N1</td>\n",
       "      <td>R$</td>\n",
       "      <td>2.59</td>\n",
       "      <td>2.59</td>\n",
       "      <td>...</td>\n",
       "      <td>2.00</td>\n",
       "      <td>3.23</td>\n",
       "      <td>1.0</td>\n",
       "      <td>1000.0</td>\n",
       "      <td>2590.0</td>\n",
       "      <td>9.06</td>\n",
       "      <td>20230915.0</td>\n",
       "      <td>1.0</td>\n",
       "      <td>b'BRITSAACNPR7'</td>\n",
       "      <td>412.0</td>\n",
       "    </tr>\n",
       "    <tr>\n",
       "      <th>181805</th>\n",
       "      <td>1</td>\n",
       "      <td>2022-10-25</td>\n",
       "      <td>78.0</td>\n",
       "      <td>b'ITSAI99'</td>\n",
       "      <td>70</td>\n",
       "      <td>ITSA</td>\n",
       "      <td>PN      N1</td>\n",
       "      <td>R$</td>\n",
       "      <td>2.55</td>\n",
       "      <td>2.55</td>\n",
       "      <td>...</td>\n",
       "      <td>0.50</td>\n",
       "      <td>3.00</td>\n",
       "      <td>4.0</td>\n",
       "      <td>1100.0</td>\n",
       "      <td>2794.0</td>\n",
       "      <td>9.06</td>\n",
       "      <td>20230915.0</td>\n",
       "      <td>1.0</td>\n",
       "      <td>b'BRITSAACNPR7'</td>\n",
       "      <td>412.0</td>\n",
       "    </tr>\n",
       "  </tbody>\n",
       "</table>\n",
       "<p>181806 rows × 23 columns</p>\n",
       "</div>"
      ],
      "text/plain": [
       "        tipo_registro data_pregao  cod_bdi cod_negociacao  tipo_mercado  \\\n",
       "0                   1  2022-10-03      2.0       b'ELMD3'            10   \n",
       "1                   1  2022-10-03      2.0       b'OFSA3'            10   \n",
       "2                   1  2022-10-03      2.0       b'SMFT3'            10   \n",
       "3                   1  2022-10-03      2.0      b'HOME34'            10   \n",
       "4                   1  2022-10-03      2.0       b'BRGE3'            10   \n",
       "...               ...         ...      ...            ...           ...   \n",
       "181801              1  2022-10-18     78.0     b'ITSAI99'            70   \n",
       "181802              1  2022-10-19     78.0     b'ITSAI99'            70   \n",
       "181803              1  2022-10-21     78.0     b'ITSAI99'            70   \n",
       "181804              1  2022-10-24     78.0     b'ITSAI99'            70   \n",
       "181805              1  2022-10-25     78.0     b'ITSAI99'            70   \n",
       "\n",
       "             empresa especificacao_papel moeda_referencia  preco_abertura  \\\n",
       "0        ELETROMIDIA          ON      NM               R$           10.80   \n",
       "1       OUROFINO S/A          ON      NM               R$           23.17   \n",
       "2          SMART FIT          ON      NM               R$           15.68   \n",
       "3         HOME DEPOT                 DRN               R$           52.53   \n",
       "4       ALFA CONSORC                  ON               R$            9.95   \n",
       "...              ...                 ...              ...             ...   \n",
       "181801          ITSA          PN      N1               R$            2.37   \n",
       "181802          ITSA          PN      N1               R$            2.43   \n",
       "181803          ITSA          PN      N1               R$            2.68   \n",
       "181804          ITSA          PN      N1               R$            2.59   \n",
       "181805          ITSA          PN      N1               R$            2.55   \n",
       "\n",
       "        preco_maximo  ...  preco_melhor_oferta_compra  \\\n",
       "0              11.73  ...                       11.40   \n",
       "1              23.17  ...                       22.50   \n",
       "2              16.60  ...                       16.07   \n",
       "3              52.84  ...                       51.12   \n",
       "4               9.95  ...                        9.00   \n",
       "...              ...  ...                         ...   \n",
       "181801          2.37  ...                        2.43   \n",
       "181802          2.43  ...                        0.06   \n",
       "181803          2.68  ...                        2.74   \n",
       "181804          2.59  ...                        2.00   \n",
       "181805          2.55  ...                        0.50   \n",
       "\n",
       "        preco_melhor_oferta_venda  numero_negocios  \\\n",
       "0                           11.44            680.0   \n",
       "1                           22.75             37.0   \n",
       "2                           16.12           8482.0   \n",
       "3                           52.76            494.0   \n",
       "4                            9.70              2.0   \n",
       "...                           ...              ...   \n",
       "181801                       3.00              1.0   \n",
       "181802                       3.00              3.0   \n",
       "181803                       0.00              1.0   \n",
       "181804                       3.23              1.0   \n",
       "181805                       3.00              4.0   \n",
       "\n",
       "        quantidade_papeis_negociados  volume_total_negociado  preco_exercicio  \\\n",
       "0                           216300.0               2469914.0             0.00   \n",
       "1                             7300.0                166458.0             0.00   \n",
       "2                          1950600.0              31486931.0             0.00   \n",
       "3                            27860.0               1467963.7             0.00   \n",
       "4                              200.0                  1912.0             0.00   \n",
       "...                              ...                     ...              ...   \n",
       "181801                        1000.0                  2370.0             9.06   \n",
       "181802                        1500.0                  3639.0             9.06   \n",
       "181803                         500.0                  1340.0             9.06   \n",
       "181804                        1000.0                  2590.0             9.06   \n",
       "181805                        1100.0                  2794.0             9.06   \n",
       "\n",
       "        data_vencimento  fator_cotacao      codigo_isin  \\\n",
       "0            99991231.0            1.0  b'BRELMDACNOR3'   \n",
       "1            99991231.0            1.0  b'BROFSAACNOR7'   \n",
       "2            99991231.0            1.0  b'BRSMFTACNOR1'   \n",
       "3            99991231.0            1.0  b'BRHOMEBDR002'   \n",
       "4            99991231.0            1.0  b'BRBRGEACNOR6'   \n",
       "...                 ...            ...              ...   \n",
       "181801       20230915.0            1.0  b'BRITSAACNPR7'   \n",
       "181802       20230915.0            1.0  b'BRITSAACNPR7'   \n",
       "181803       20230915.0            1.0  b'BRITSAACNPR7'   \n",
       "181804       20230915.0            1.0  b'BRITSAACNPR7'   \n",
       "181805       20230915.0            1.0  b'BRITSAACNPR7'   \n",
       "\n",
       "        num_distribuicao_papel  \n",
       "0                        100.0  \n",
       "1                        114.0  \n",
       "2                        109.0  \n",
       "3                        143.0  \n",
       "4                        203.0  \n",
       "...                        ...  \n",
       "181801                   412.0  \n",
       "181802                   412.0  \n",
       "181803                   412.0  \n",
       "181804                   412.0  \n",
       "181805                   412.0  \n",
       "\n",
       "[181806 rows x 23 columns]"
      ]
     },
     "execution_count": 31,
     "metadata": {},
     "output_type": "execute_result"
    }
   ],
   "source": [
    "dados_acoes"
   ]
  },
  {
   "cell_type": "code",
   "execution_count": null,
   "id": "cnBr3jTgTFBC",
   "metadata": {
    "colab": {
     "base_uri": "https://localhost:8080/",
     "height": 573
    },
    "id": "cnBr3jTgTFBC",
    "outputId": "a1e7ff82-6ba6-4a2a-e08a-afb83f6e8581"
   },
   "outputs": [],
   "source": []
  },
  {
   "cell_type": "code",
   "execution_count": 32,
   "id": "b7ac16eb",
   "metadata": {
    "id": "b7ac16eb"
   },
   "outputs": [],
   "source": [
    "dados_acoes.drop([\"moeda_referencia\"], axis=1, inplace=True)\n"
   ]
  },
  {
   "cell_type": "code",
   "execution_count": 33,
   "id": "d8174b30",
   "metadata": {
    "colab": {
     "base_uri": "https://localhost:8080/"
    },
    "id": "d8174b30",
    "outputId": "d550616d-094a-45ca-80ec-0fd4ecbd2ac4"
   },
   "outputs": [
    {
     "data": {
      "text/plain": [
       "PETRE           10027\n",
       "VALEE            6220\n",
       "PETR             4858\n",
       "BBASE            3892\n",
       "MGLUE            3198\n",
       "                ...  \n",
       "THE JM SMUCK        1\n",
       "FII JASC REN        1\n",
       "BUMBLE INC          1\n",
       "WEC ENERGY G        1\n",
       "PPL CORP            1\n",
       "Name: empresa, Length: 2176, dtype: int64"
      ]
     },
     "execution_count": 33,
     "metadata": {},
     "output_type": "execute_result"
    }
   ],
   "source": [
    "dados_acoes[\"empresa\"].value_counts()"
   ]
  },
  {
   "cell_type": "code",
   "execution_count": 34,
   "id": "e0cc416e",
   "metadata": {
    "colab": {
     "base_uri": "https://localhost:8080/",
     "height": 522
    },
    "id": "e0cc416e",
    "outputId": "6df3acb6-a3f9-4d63-e75b-dc951c79fd5f"
   },
   "outputs": [
    {
     "data": {
      "text/plain": [
       "0         1.0\n",
       "1         1.0\n",
       "2         1.0\n",
       "3         1.0\n",
       "4         1.0\n",
       "         ... \n",
       "181801    1.0\n",
       "181802    1.0\n",
       "181803    1.0\n",
       "181804    1.0\n",
       "181805    1.0\n",
       "Name: fator_cotacao, Length: 181806, dtype: float64"
      ]
     },
     "execution_count": 34,
     "metadata": {},
     "output_type": "execute_result"
    }
   ],
   "source": [
    "dados_acoes[\"fator_cotacao\"]"
   ]
  },
  {
   "cell_type": "code",
   "execution_count": 35,
   "id": "05a56736",
   "metadata": {
    "id": "05a56736"
   },
   "outputs": [],
   "source": [
    "\n",
    "empresa_1 = dados_acoes[dados_acoes[\"empresa\"] == \"PETRE\"]"
   ]
  },
  {
   "cell_type": "code",
   "execution_count": 36,
   "id": "063178ef",
   "metadata": {
    "colab": {
     "base_uri": "https://localhost:8080/",
     "height": 487
    },
    "id": "063178ef",
    "outputId": "fc8ce045-e4b4-4a5b-d272-6aba2c1dbe6d",
    "scrolled": true
   },
   "outputs": [
    {
     "data": {
      "text/html": [
       "<div>\n",
       "<style scoped>\n",
       "    .dataframe tbody tr th:only-of-type {\n",
       "        vertical-align: middle;\n",
       "    }\n",
       "\n",
       "    .dataframe tbody tr th {\n",
       "        vertical-align: top;\n",
       "    }\n",
       "\n",
       "    .dataframe thead th {\n",
       "        text-align: right;\n",
       "    }\n",
       "</style>\n",
       "<table border=\"1\" class=\"dataframe\">\n",
       "  <thead>\n",
       "    <tr style=\"text-align: right;\">\n",
       "      <th></th>\n",
       "      <th>tipo_registro</th>\n",
       "      <th>data_pregao</th>\n",
       "      <th>cod_bdi</th>\n",
       "      <th>cod_negociacao</th>\n",
       "      <th>tipo_mercado</th>\n",
       "      <th>empresa</th>\n",
       "      <th>especificacao_papel</th>\n",
       "      <th>preco_abertura</th>\n",
       "      <th>preco_maximo</th>\n",
       "      <th>preco_minimo</th>\n",
       "      <th>...</th>\n",
       "      <th>preco_melhor_oferta_compra</th>\n",
       "      <th>preco_melhor_oferta_venda</th>\n",
       "      <th>numero_negocios</th>\n",
       "      <th>quantidade_papeis_negociados</th>\n",
       "      <th>volume_total_negociado</th>\n",
       "      <th>preco_exercicio</th>\n",
       "      <th>data_vencimento</th>\n",
       "      <th>fator_cotacao</th>\n",
       "      <th>codigo_isin</th>\n",
       "      <th>num_distribuicao_papel</th>\n",
       "    </tr>\n",
       "  </thead>\n",
       "  <tbody>\n",
       "    <tr>\n",
       "      <th>56292</th>\n",
       "      <td>1</td>\n",
       "      <td>2022-10-04</td>\n",
       "      <td>82.0</td>\n",
       "      <td>b'PETRW358'</td>\n",
       "      <td>80</td>\n",
       "      <td>PETRE</td>\n",
       "      <td>ON      N2</td>\n",
       "      <td>0.48</td>\n",
       "      <td>0.48</td>\n",
       "      <td>0.47</td>\n",
       "      <td>...</td>\n",
       "      <td>0.0</td>\n",
       "      <td>0.0</td>\n",
       "      <td>15.0</td>\n",
       "      <td>7500.0</td>\n",
       "      <td>3597.0</td>\n",
       "      <td>29.18</td>\n",
       "      <td>20221118.0</td>\n",
       "      <td>1.0</td>\n",
       "      <td>b'BRPETRACNOR9'</td>\n",
       "      <td>196.0</td>\n",
       "    </tr>\n",
       "    <tr>\n",
       "      <th>56293</th>\n",
       "      <td>1</td>\n",
       "      <td>2022-10-05</td>\n",
       "      <td>82.0</td>\n",
       "      <td>b'PETRW358'</td>\n",
       "      <td>80</td>\n",
       "      <td>PETRE</td>\n",
       "      <td>ON      N2</td>\n",
       "      <td>0.48</td>\n",
       "      <td>0.48</td>\n",
       "      <td>0.42</td>\n",
       "      <td>...</td>\n",
       "      <td>0.0</td>\n",
       "      <td>0.0</td>\n",
       "      <td>2.0</td>\n",
       "      <td>2000.0</td>\n",
       "      <td>900.0</td>\n",
       "      <td>29.18</td>\n",
       "      <td>20221118.0</td>\n",
       "      <td>1.0</td>\n",
       "      <td>b'BRPETRACNOR9'</td>\n",
       "      <td>196.0</td>\n",
       "    </tr>\n",
       "    <tr>\n",
       "      <th>56294</th>\n",
       "      <td>1</td>\n",
       "      <td>2022-10-06</td>\n",
       "      <td>82.0</td>\n",
       "      <td>b'PETRW358'</td>\n",
       "      <td>80</td>\n",
       "      <td>PETRE</td>\n",
       "      <td>ON      N2</td>\n",
       "      <td>0.36</td>\n",
       "      <td>0.36</td>\n",
       "      <td>0.22</td>\n",
       "      <td>...</td>\n",
       "      <td>0.0</td>\n",
       "      <td>0.0</td>\n",
       "      <td>3.0</td>\n",
       "      <td>6000.0</td>\n",
       "      <td>1530.0</td>\n",
       "      <td>29.18</td>\n",
       "      <td>20221118.0</td>\n",
       "      <td>1.0</td>\n",
       "      <td>b'BRPETRACNOR9'</td>\n",
       "      <td>196.0</td>\n",
       "    </tr>\n",
       "    <tr>\n",
       "      <th>56295</th>\n",
       "      <td>1</td>\n",
       "      <td>2022-10-07</td>\n",
       "      <td>82.0</td>\n",
       "      <td>b'PETRW358'</td>\n",
       "      <td>80</td>\n",
       "      <td>PETRE</td>\n",
       "      <td>ON      N2</td>\n",
       "      <td>0.23</td>\n",
       "      <td>0.29</td>\n",
       "      <td>0.23</td>\n",
       "      <td>...</td>\n",
       "      <td>0.0</td>\n",
       "      <td>0.0</td>\n",
       "      <td>17.0</td>\n",
       "      <td>15200.0</td>\n",
       "      <td>3775.0</td>\n",
       "      <td>29.18</td>\n",
       "      <td>20221118.0</td>\n",
       "      <td>1.0</td>\n",
       "      <td>b'BRPETRACNOR9'</td>\n",
       "      <td>196.0</td>\n",
       "    </tr>\n",
       "    <tr>\n",
       "      <th>56296</th>\n",
       "      <td>1</td>\n",
       "      <td>2022-10-11</td>\n",
       "      <td>82.0</td>\n",
       "      <td>b'PETRW358'</td>\n",
       "      <td>80</td>\n",
       "      <td>PETRE</td>\n",
       "      <td>ON      N2</td>\n",
       "      <td>0.30</td>\n",
       "      <td>0.30</td>\n",
       "      <td>0.30</td>\n",
       "      <td>...</td>\n",
       "      <td>0.0</td>\n",
       "      <td>0.0</td>\n",
       "      <td>1.0</td>\n",
       "      <td>3000.0</td>\n",
       "      <td>900.0</td>\n",
       "      <td>29.18</td>\n",
       "      <td>20221118.0</td>\n",
       "      <td>1.0</td>\n",
       "      <td>b'BRPETRACNOR9'</td>\n",
       "      <td>196.0</td>\n",
       "    </tr>\n",
       "    <tr>\n",
       "      <th>...</th>\n",
       "      <td>...</td>\n",
       "      <td>...</td>\n",
       "      <td>...</td>\n",
       "      <td>...</td>\n",
       "      <td>...</td>\n",
       "      <td>...</td>\n",
       "      <td>...</td>\n",
       "      <td>...</td>\n",
       "      <td>...</td>\n",
       "      <td>...</td>\n",
       "      <td>...</td>\n",
       "      <td>...</td>\n",
       "      <td>...</td>\n",
       "      <td>...</td>\n",
       "      <td>...</td>\n",
       "      <td>...</td>\n",
       "      <td>...</td>\n",
       "      <td>...</td>\n",
       "      <td>...</td>\n",
       "      <td>...</td>\n",
       "      <td>...</td>\n",
       "    </tr>\n",
       "    <tr>\n",
       "      <th>180713</th>\n",
       "      <td>1</td>\n",
       "      <td>2022-10-26</td>\n",
       "      <td>78.0</td>\n",
       "      <td>b'PETRK822'</td>\n",
       "      <td>70</td>\n",
       "      <td>PETRE</td>\n",
       "      <td>PN      N2</td>\n",
       "      <td>24.17</td>\n",
       "      <td>25.10</td>\n",
       "      <td>23.68</td>\n",
       "      <td>...</td>\n",
       "      <td>0.0</td>\n",
       "      <td>0.0</td>\n",
       "      <td>12.0</td>\n",
       "      <td>1200.0</td>\n",
       "      <td>29424.0</td>\n",
       "      <td>8.22</td>\n",
       "      <td>20221118.0</td>\n",
       "      <td>1.0</td>\n",
       "      <td>b'BRPETRACNPR6'</td>\n",
       "      <td>204.0</td>\n",
       "    </tr>\n",
       "    <tr>\n",
       "      <th>180714</th>\n",
       "      <td>1</td>\n",
       "      <td>2022-10-28</td>\n",
       "      <td>78.0</td>\n",
       "      <td>b'PETRK822'</td>\n",
       "      <td>70</td>\n",
       "      <td>PETRE</td>\n",
       "      <td>PN      N2</td>\n",
       "      <td>24.39</td>\n",
       "      <td>24.39</td>\n",
       "      <td>23.83</td>\n",
       "      <td>...</td>\n",
       "      <td>0.0</td>\n",
       "      <td>0.0</td>\n",
       "      <td>5.0</td>\n",
       "      <td>500.0</td>\n",
       "      <td>12087.0</td>\n",
       "      <td>8.22</td>\n",
       "      <td>20221118.0</td>\n",
       "      <td>1.0</td>\n",
       "      <td>b'BRPETRACNPR6'</td>\n",
       "      <td>204.0</td>\n",
       "    </tr>\n",
       "    <tr>\n",
       "      <th>180715</th>\n",
       "      <td>1</td>\n",
       "      <td>2022-10-31</td>\n",
       "      <td>78.0</td>\n",
       "      <td>b'PETRK822'</td>\n",
       "      <td>70</td>\n",
       "      <td>PETRE</td>\n",
       "      <td>PN      N2</td>\n",
       "      <td>22.12</td>\n",
       "      <td>22.12</td>\n",
       "      <td>21.23</td>\n",
       "      <td>...</td>\n",
       "      <td>0.0</td>\n",
       "      <td>0.0</td>\n",
       "      <td>3.0</td>\n",
       "      <td>300.0</td>\n",
       "      <td>6534.0</td>\n",
       "      <td>8.22</td>\n",
       "      <td>20221118.0</td>\n",
       "      <td>1.0</td>\n",
       "      <td>b'BRPETRACNPR6'</td>\n",
       "      <td>204.0</td>\n",
       "    </tr>\n",
       "    <tr>\n",
       "      <th>180721</th>\n",
       "      <td>1</td>\n",
       "      <td>2022-10-13</td>\n",
       "      <td>78.0</td>\n",
       "      <td>b'PETRC374'</td>\n",
       "      <td>70</td>\n",
       "      <td>PETRE</td>\n",
       "      <td>PN      N2</td>\n",
       "      <td>2.67</td>\n",
       "      <td>2.67</td>\n",
       "      <td>2.67</td>\n",
       "      <td>...</td>\n",
       "      <td>0.0</td>\n",
       "      <td>0.0</td>\n",
       "      <td>1.0</td>\n",
       "      <td>10000.0</td>\n",
       "      <td>26700.0</td>\n",
       "      <td>37.52</td>\n",
       "      <td>20230317.0</td>\n",
       "      <td>1.0</td>\n",
       "      <td>b'BRPETRACNPR6'</td>\n",
       "      <td>204.0</td>\n",
       "    </tr>\n",
       "    <tr>\n",
       "      <th>180728</th>\n",
       "      <td>1</td>\n",
       "      <td>2022-10-24</td>\n",
       "      <td>78.0</td>\n",
       "      <td>b'PETRL152'</td>\n",
       "      <td>70</td>\n",
       "      <td>PETRE</td>\n",
       "      <td>ON      N2</td>\n",
       "      <td>31.15</td>\n",
       "      <td>31.15</td>\n",
       "      <td>31.15</td>\n",
       "      <td>...</td>\n",
       "      <td>0.0</td>\n",
       "      <td>0.0</td>\n",
       "      <td>1.0</td>\n",
       "      <td>3700.0</td>\n",
       "      <td>115255.0</td>\n",
       "      <td>8.58</td>\n",
       "      <td>20221216.0</td>\n",
       "      <td>1.0</td>\n",
       "      <td>b'BRPETRACNOR9'</td>\n",
       "      <td>196.0</td>\n",
       "    </tr>\n",
       "  </tbody>\n",
       "</table>\n",
       "<p>10027 rows × 22 columns</p>\n",
       "</div>"
      ],
      "text/plain": [
       "        tipo_registro data_pregao  cod_bdi cod_negociacao  tipo_mercado  \\\n",
       "56292               1  2022-10-04     82.0    b'PETRW358'            80   \n",
       "56293               1  2022-10-05     82.0    b'PETRW358'            80   \n",
       "56294               1  2022-10-06     82.0    b'PETRW358'            80   \n",
       "56295               1  2022-10-07     82.0    b'PETRW358'            80   \n",
       "56296               1  2022-10-11     82.0    b'PETRW358'            80   \n",
       "...               ...         ...      ...            ...           ...   \n",
       "180713              1  2022-10-26     78.0    b'PETRK822'            70   \n",
       "180714              1  2022-10-28     78.0    b'PETRK822'            70   \n",
       "180715              1  2022-10-31     78.0    b'PETRK822'            70   \n",
       "180721              1  2022-10-13     78.0    b'PETRC374'            70   \n",
       "180728              1  2022-10-24     78.0    b'PETRL152'            70   \n",
       "\n",
       "       empresa especificacao_papel  preco_abertura  preco_maximo  \\\n",
       "56292    PETRE          ON      N2            0.48          0.48   \n",
       "56293    PETRE          ON      N2            0.48          0.48   \n",
       "56294    PETRE          ON      N2            0.36          0.36   \n",
       "56295    PETRE          ON      N2            0.23          0.29   \n",
       "56296    PETRE          ON      N2            0.30          0.30   \n",
       "...        ...                 ...             ...           ...   \n",
       "180713   PETRE          PN      N2           24.17         25.10   \n",
       "180714   PETRE          PN      N2           24.39         24.39   \n",
       "180715   PETRE          PN      N2           22.12         22.12   \n",
       "180721   PETRE          PN      N2            2.67          2.67   \n",
       "180728   PETRE          ON      N2           31.15         31.15   \n",
       "\n",
       "        preco_minimo  ...  preco_melhor_oferta_compra  \\\n",
       "56292           0.47  ...                         0.0   \n",
       "56293           0.42  ...                         0.0   \n",
       "56294           0.22  ...                         0.0   \n",
       "56295           0.23  ...                         0.0   \n",
       "56296           0.30  ...                         0.0   \n",
       "...              ...  ...                         ...   \n",
       "180713         23.68  ...                         0.0   \n",
       "180714         23.83  ...                         0.0   \n",
       "180715         21.23  ...                         0.0   \n",
       "180721          2.67  ...                         0.0   \n",
       "180728         31.15  ...                         0.0   \n",
       "\n",
       "        preco_melhor_oferta_venda  numero_negocios  \\\n",
       "56292                         0.0             15.0   \n",
       "56293                         0.0              2.0   \n",
       "56294                         0.0              3.0   \n",
       "56295                         0.0             17.0   \n",
       "56296                         0.0              1.0   \n",
       "...                           ...              ...   \n",
       "180713                        0.0             12.0   \n",
       "180714                        0.0              5.0   \n",
       "180715                        0.0              3.0   \n",
       "180721                        0.0              1.0   \n",
       "180728                        0.0              1.0   \n",
       "\n",
       "        quantidade_papeis_negociados  volume_total_negociado  preco_exercicio  \\\n",
       "56292                         7500.0                  3597.0            29.18   \n",
       "56293                         2000.0                   900.0            29.18   \n",
       "56294                         6000.0                  1530.0            29.18   \n",
       "56295                        15200.0                  3775.0            29.18   \n",
       "56296                         3000.0                   900.0            29.18   \n",
       "...                              ...                     ...              ...   \n",
       "180713                        1200.0                 29424.0             8.22   \n",
       "180714                         500.0                 12087.0             8.22   \n",
       "180715                         300.0                  6534.0             8.22   \n",
       "180721                       10000.0                 26700.0            37.52   \n",
       "180728                        3700.0                115255.0             8.58   \n",
       "\n",
       "        data_vencimento  fator_cotacao      codigo_isin  \\\n",
       "56292        20221118.0            1.0  b'BRPETRACNOR9'   \n",
       "56293        20221118.0            1.0  b'BRPETRACNOR9'   \n",
       "56294        20221118.0            1.0  b'BRPETRACNOR9'   \n",
       "56295        20221118.0            1.0  b'BRPETRACNOR9'   \n",
       "56296        20221118.0            1.0  b'BRPETRACNOR9'   \n",
       "...                 ...            ...              ...   \n",
       "180713       20221118.0            1.0  b'BRPETRACNPR6'   \n",
       "180714       20221118.0            1.0  b'BRPETRACNPR6'   \n",
       "180715       20221118.0            1.0  b'BRPETRACNPR6'   \n",
       "180721       20230317.0            1.0  b'BRPETRACNPR6'   \n",
       "180728       20221216.0            1.0  b'BRPETRACNOR9'   \n",
       "\n",
       "        num_distribuicao_papel  \n",
       "56292                    196.0  \n",
       "56293                    196.0  \n",
       "56294                    196.0  \n",
       "56295                    196.0  \n",
       "56296                    196.0  \n",
       "...                        ...  \n",
       "180713                   204.0  \n",
       "180714                   204.0  \n",
       "180715                   204.0  \n",
       "180721                   204.0  \n",
       "180728                   196.0  \n",
       "\n",
       "[10027 rows x 22 columns]"
      ]
     },
     "execution_count": 36,
     "metadata": {},
     "output_type": "execute_result"
    }
   ],
   "source": [
    "empresa_1"
   ]
  },
  {
   "cell_type": "markdown",
   "id": "p4Vb0GOUQkmg",
   "metadata": {
    "id": "p4Vb0GOUQkmg"
   },
   "source": []
  },
  {
   "cell_type": "markdown",
   "id": "c40edec8",
   "metadata": {
    "id": "c40edec8"
   },
   "source": [
    "## Como estão centrados os preços dos últimos negocios da PETRE?"
   ]
  },
  {
   "cell_type": "markdown",
   "id": "d245a97b",
   "metadata": {
    "id": "d245a97b"
   },
   "source": [
    "#### Primeiro os dados dos preços do últimos negócios serão alocados para um objeto Series unidimensional "
   ]
  },
  {
   "cell_type": "code",
   "execution_count": 37,
   "id": "2c59d04a",
   "metadata": {
    "colab": {
     "base_uri": "https://localhost:8080/"
    },
    "id": "2c59d04a",
    "outputId": "0e9d76ca-58f5-4d3d-ec3e-26a38c5bc3c7"
   },
   "outputs": [
    {
     "name": "stdout",
     "output_type": "stream",
     "text": [
      "[1.000e-02 1.000e-02 1.000e-02 ... 4.877e+01 4.927e+01 4.977e+01]\n"
     ]
    }
   ],
   "source": [
    "PETRE = empresa_1[\"preco_ultimo_negocio\"]\n",
    "PETRE_arr = np.array(PETRE)\n",
    "type(PETRE)\n",
    "type(PETRE_arr)\n",
    "\n",
    "#Ordenar preço dos últimos negócios da PETRE\n",
    "PETRE_arr.sort()\n",
    "print(PETRE_arr)"
   ]
  },
  {
   "cell_type": "code",
   "execution_count": 38,
   "id": "80547795",
   "metadata": {
    "colab": {
     "base_uri": "https://localhost:8080/"
    },
    "id": "80547795",
    "outputId": "d5603b66-56ef-4c41-9478-29eb328650ff"
   },
   "outputs": [
    {
     "data": {
      "text/plain": [
       "count    10027.000000\n",
       "mean         4.105726\n",
       "std          5.729424\n",
       "min          0.010000\n",
       "25%          0.240000\n",
       "50%          1.700000\n",
       "75%          5.750000\n",
       "max         49.770000\n",
       "Name: preco_ultimo_negocio, dtype: float64"
      ]
     },
     "execution_count": 38,
     "metadata": {},
     "output_type": "execute_result"
    }
   ],
   "source": [
    "PETRE.describe()"
   ]
  },
  {
   "cell_type": "markdown",
   "id": "ceaf8c73",
   "metadata": {
    "id": "ceaf8c73"
   },
   "source": [
    "#### O dicionário \"central_tendency_measures\" contém dados das medidas de tendência central do Series em questão"
   ]
  },
  {
   "cell_type": "code",
   "execution_count": 39,
   "id": "40865daf",
   "metadata": {
    "colab": {
     "base_uri": "https://localhost:8080/"
    },
    "id": "40865daf",
    "outputId": "ceee9297-df23-4fb5-c301-5bd592cb200f"
   },
   "outputs": [
    {
     "data": {
      "text/plain": [
       "mean                                               4.105726\n",
       "mode      0    0.01\n",
       "Name: preco_ultimo_negocio, dtype: f...\n",
       "median                                                  1.7\n",
       "max                                                   49.77\n",
       "min                                                    0.01\n",
       "dtype: object"
      ]
     },
     "execution_count": 39,
     "metadata": {},
     "output_type": "execute_result"
    }
   ],
   "source": [
    "\n",
    "central_tendency_measures = {\n",
    "    \"mean\": PETRE.mean(),\n",
    "    \"mode\": PETRE.mode(dropna = True),\n",
    "    \"median\": PETRE.median(), \n",
    "    \"max\": PETRE.max(),\n",
    "    \"min\": PETRE.min(),\n",
    "}\n",
    "pd.Series(central_tendency_measures)"
   ]
  },
  {
   "cell_type": "markdown",
   "id": "38ece510",
   "metadata": {
    "id": "38ece510"
   },
   "source": [
    "## Como estão distribuídos os preços das ações da PETRE?\n"
   ]
  },
  {
   "cell_type": "markdown",
   "id": "453838c0",
   "metadata": {
    "id": "453838c0"
   },
   "source": [
    "#### Variability Measures\n",
    "Existe uniformidade entre as medidas encontradas?"
   ]
  },
  {
   "cell_type": "code",
   "execution_count": 55,
   "id": "a7e32589",
   "metadata": {
    "colab": {
     "base_uri": "https://localhost:8080/"
    },
    "id": "a7e32589",
    "outputId": "46e54640-5513-480c-ab1e-dd6b9220f6ce"
   },
   "outputs": [
    {
     "ename": "NameError",
     "evalue": "name 'np' is not defined",
     "output_type": "error",
     "traceback": [
      "\u001b[1;31m---------------------------------------------------------------------------\u001b[0m",
      "\u001b[1;31mNameError\u001b[0m                                 Traceback (most recent call last)",
      "Cell \u001b[1;32mIn [55], line 5\u001b[0m\n\u001b[0;32m      1\u001b[0m \u001b[38;5;66;03m# output: [ 1  1  0  4 -5]\u001b[39;00m\n\u001b[0;32m      2\u001b[0m variability_measures \u001b[38;5;241m=\u001b[39m {\n\u001b[0;32m      3\u001b[0m     \u001b[38;5;124m\"\u001b[39m\u001b[38;5;124mvariance\u001b[39m\u001b[38;5;124m\"\u001b[39m : PETRE\u001b[38;5;241m.\u001b[39mvar(),\n\u001b[0;32m      4\u001b[0m     \u001b[38;5;124m\"\u001b[39m\u001b[38;5;124mstandard deviation\u001b[39m\u001b[38;5;124m\"\u001b[39m: PETRE\u001b[38;5;241m.\u001b[39mstd(),\n\u001b[1;32m----> 5\u001b[0m     \u001b[38;5;124m\"\u001b[39m\u001b[38;5;124mshifiting_range\u001b[39m\u001b[38;5;124m\"\u001b[39m : np\u001b[38;5;241m.\u001b[39munique(\u001b[43mshifting\u001b[49m\u001b[38;5;241;43m.\u001b[39;49m\u001b[43mshifting_range\u001b[49m\u001b[43m(\u001b[49m\u001b[43mPETRE_arr\u001b[49m\u001b[43m)\u001b[49m),\n\u001b[0;32m      6\u001b[0m     \u001b[38;5;124m\"\u001b[39m\u001b[38;5;124mCV\u001b[39m\u001b[38;5;124m\"\u001b[39m : variation(PETRE)\n\u001b[0;32m      7\u001b[0m }\n\u001b[0;32m      8\u001b[0m pd\u001b[38;5;241m.\u001b[39mSeries(variability_measures)\n",
      "File \u001b[1;32m~\\Documents\\GitHub\\actions-price-analysis\\anapy\\shifting.py:3\u001b[0m, in \u001b[0;36mshifting_range\u001b[1;34m(numpy_arr)\u001b[0m\n\u001b[0;32m      1\u001b[0m \u001b[38;5;28;01mdef\u001b[39;00m \u001b[38;5;21mshifting_range\u001b[39m(numpy_arr):\n\u001b[0;32m      2\u001b[0m     input_arr \u001b[38;5;241m=\u001b[39m numpy_arr\n\u001b[1;32m----> 3\u001b[0m     \u001b[38;5;28mprint\u001b[39m(\u001b[43mnp\u001b[49m\u001b[38;5;241m.\u001b[39mroll(input_arr, \u001b[38;5;241m1\u001b[39m))\n\u001b[0;32m      4\u001b[0m \u001b[38;5;66;03m# note que os elementos foram \"deslizados\" \u001b[39;00m\n\u001b[0;32m      5\u001b[0m \u001b[38;5;66;03m# uma casa para a direita, com o último elemento\u001b[39;00m\n\u001b[0;32m      6\u001b[0m \u001b[38;5;66;03m# dando a volta e aparecendo na primeira casa\u001b[39;00m\n\u001b[0;32m      7\u001b[0m     output_arr \u001b[38;5;241m=\u001b[39m input_arr \u001b[38;5;241m-\u001b[39m np\u001b[38;5;241m.\u001b[39mroll(input_arr, \u001b[38;5;241m1\u001b[39m)  \u001b[38;5;66;03m# subtração de vetores\u001b[39;00m\n",
      "\u001b[1;31mNameError\u001b[0m: name 'np' is not defined"
     ]
    }
   ],
   "source": [
    "\n",
    "# output: [ 1  1  0  4 -5]\n",
    "variability_measures = {\n",
    "    \"variance\" : PETRE.var(),\n",
    "    \"standard deviation\": PETRE.std(),\n",
    "    \"shifiting_range\" : np.unique(shifting.shifting_range(PETRE_arr)),\n",
    "    \"CV\" : variation(PETRE)\n",
    "}\n",
    "pd.Series(variability_measures)\n",
    "\n"
   ]
  },
  {
   "cell_type": "markdown",
   "id": "b257391d",
   "metadata": {
    "id": "b257391d"
   },
   "source": [
    "#### A média está centralizada?\n"
   ]
  },
  {
   "cell_type": "code",
   "execution_count": null,
   "id": "e7b1edee",
   "metadata": {
    "id": "e7b1edee"
   },
   "outputs": [],
   "source": [
    "#Criar um gráfico que\n",
    "    #Exibe a diferença entre o coeficiente de variação, a média e o desvio padrão\n",
    "    "
   ]
  },
  {
   "cell_type": "code",
   "execution_count": null,
   "id": "35222974",
   "metadata": {
    "colab": {
     "base_uri": "https://localhost:8080/",
     "height": 298
    },
    "id": "35222974",
    "outputId": "525f3c83-2f68-4537-8367-fad1d25796e2"
   },
   "outputs": [],
   "source": [
    "boxplot_empresa1_precoultimo_plt = sns.boxplot(x=empresa_1[\"preco_ultimo_negocio\"]) # colocando o boxplot numa variável para manipular melhor\n",
    "boxplot_empresa1_precoultimo_plt.set_ylabel('Outubro', fontsize=14) # Aqui você renomeia o eixo que deseja e o tamanho da fonte\n",
    "\n",
    "boxplot_empresa1_precoultimo_plt.plot() # Aqui é como se o gráfico fosse ocultado até ser usado plt.show()\n",
    "\n",
    "# em R$ - Reais\n",
    "plt.title('Últimos preços negociados da PETRE') # O título que se deseja colocar acima do gráfico\n",
    "\n",
    "plt.show() # Impressão do gráfico"
   ]
  },
  {
   "cell_type": "code",
   "execution_count": null,
   "id": "86d86262",
   "metadata": {
    "colab": {
     "base_uri": "https://localhost:8080/"
    },
    "id": "86d86262",
    "outputId": "d59bb4e3-4017-48bf-da8c-200c0a8d25c6"
   },
   "outputs": [],
   "source": [
    "empresa_1[\"volume_total_negociado\"].std()"
   ]
  },
  {
   "cell_type": "code",
   "execution_count": null,
   "id": "e2e7ee5e",
   "metadata": {
    "colab": {
     "base_uri": "https://localhost:8080/"
    },
    "id": "e2e7ee5e",
    "outputId": "fa2366fa-13ce-4d9a-f069-f503417aa863"
   },
   "outputs": [],
   "source": [
    "empresa_1[\"volume_total_negociado\"].mean()"
   ]
  },
  {
   "cell_type": "code",
   "execution_count": null,
   "id": "dedd841b",
   "metadata": {
    "colab": {
     "base_uri": "https://localhost:8080/"
    },
    "id": "dedd841b",
    "outputId": "896b29ce-52fe-4db7-f65f-1883041c5ed0"
   },
   "outputs": [],
   "source": [
    "empresa_1[\"volume_total_negociado\"].median()"
   ]
  },
  {
   "cell_type": "code",
   "execution_count": null,
   "id": "1747a428",
   "metadata": {
    "colab": {
     "base_uri": "https://localhost:8080/",
     "height": 296
    },
    "id": "1747a428",
    "outputId": "9bd53f4e-6ae2-4146-8d26-65ca992e03b6"
   },
   "outputs": [],
   "source": [
    "boxplot_empresa1_volumetotal_plt = sns.boxplot(x=empresa_1[\"volume_total_negociado\"])\n",
    "boxplot_empresa1_volumetotal_plt.set_ylabel('Outubro', fontsize=14)\n",
    "\n",
    "boxplot_empresa1_volumetotal_plt.plot()\n",
    "\n",
    "\n",
    "plt.title('Volume total negociado da PETRE em milhões')\n",
    "\n",
    "plt.show()"
   ]
  },
  {
   "cell_type": "code",
   "execution_count": null,
   "id": "a36f905f",
   "metadata": {
    "colab": {
     "base_uri": "https://localhost:8080/"
    },
    "id": "a36f905f",
    "outputId": "bbe01701-e257-4037-fd35-5899da605a37"
   },
   "outputs": [],
   "source": [
    "empresa_1[\"numero_negocios\"].std()"
   ]
  },
  {
   "cell_type": "code",
   "execution_count": null,
   "id": "5653ffaa",
   "metadata": {
    "colab": {
     "base_uri": "https://localhost:8080/"
    },
    "id": "5653ffaa",
    "outputId": "7298405c-a53a-47fe-b64e-8a5f2450816a"
   },
   "outputs": [],
   "source": [
    "empresa_1[\"numero_negocios\"].mean()"
   ]
  },
  {
   "cell_type": "code",
   "execution_count": null,
   "id": "049d160b",
   "metadata": {
    "colab": {
     "base_uri": "https://localhost:8080/"
    },
    "id": "049d160b",
    "outputId": "5c859dbe-578b-4225-bc43-4c99c0739ca8"
   },
   "outputs": [],
   "source": [
    "empresa_1[\"numero_negocios\"].median()"
   ]
  },
  {
   "cell_type": "code",
   "execution_count": null,
   "id": "3f747307",
   "metadata": {
    "colab": {
     "base_uri": "https://localhost:8080/",
     "height": 296
    },
    "id": "3f747307",
    "outputId": "f7afc52a-c2d9-46c1-cac3-cf7731e68587"
   },
   "outputs": [],
   "source": [
    "boxplot_empresa1_numeronegocios_plt = sns.boxplot(x=empresa_1[\"numero_negocios\"])\n",
    "boxplot_empresa1_numeronegocios_plt.set_ylabel('Outubro', fontsize=14)\n",
    "\n",
    "boxplot_empresa1_numeronegocios_plt.plot()\n",
    "\n",
    "\n",
    "plt.title('Número de négocios da PETRE')\n",
    "\n",
    "plt.show()"
   ]
  },
  {
   "cell_type": "code",
   "execution_count": null,
   "id": "b4fd18b1",
   "metadata": {
    "colab": {
     "base_uri": "https://localhost:8080/"
    },
    "id": "b4fd18b1",
    "outputId": "893e7c5a-8a98-4fd3-9814-4b1db676a493"
   },
   "outputs": [],
   "source": [
    "empresa_1[\"preco_maximo\"].std()"
   ]
  },
  {
   "cell_type": "code",
   "execution_count": null,
   "id": "c957b70a",
   "metadata": {
    "colab": {
     "base_uri": "https://localhost:8080/"
    },
    "id": "c957b70a",
    "outputId": "12c9fc8a-2f82-4a7c-fdbd-be5e0ab65ea3"
   },
   "outputs": [],
   "source": [
    "empresa_1[\"preco_maximo\"].mean()"
   ]
  },
  {
   "cell_type": "code",
   "execution_count": null,
   "id": "df75f8e7",
   "metadata": {
    "colab": {
     "base_uri": "https://localhost:8080/"
    },
    "id": "df75f8e7",
    "outputId": "4437ca19-dba4-4132-cd5e-9f9dcd2a9f47"
   },
   "outputs": [],
   "source": [
    "empresa_1[\"preco_maximo\"].median()"
   ]
  },
  {
   "cell_type": "code",
   "execution_count": null,
   "id": "7cdc9a2f",
   "metadata": {
    "colab": {
     "base_uri": "https://localhost:8080/",
     "height": 296
    },
    "id": "7cdc9a2f",
    "outputId": "17394fe1-1419-4e7f-f023-876dca50398f"
   },
   "outputs": [],
   "source": [
    "boxplot_empresa1_maximo_plt = sns.boxplot(x = empresa_1[\"preco_maximo\"])\n",
    "boxplot_empresa1_maximo_plt.set_ylabel('Outubro', fontsize=14)\n",
    "\n",
    "boxplot_empresa1_maximo_plt.plot()\n",
    "\n",
    "\n",
    "plt.title('Preço máximo da PETRE') # em R$ - Reais\n",
    "\n",
    "plt.show()"
   ]
  },
  {
   "cell_type": "code",
   "execution_count": null,
   "id": "67c427b5",
   "metadata": {
    "colab": {
     "base_uri": "https://localhost:8080/"
    },
    "id": "67c427b5",
    "outputId": "10385c76-5ecd-4e6f-d707-66c336229f38"
   },
   "outputs": [],
   "source": [
    "empresa_1[\"preco_minimo\"].std()"
   ]
  },
  {
   "cell_type": "code",
   "execution_count": null,
   "id": "ee3828b7",
   "metadata": {
    "colab": {
     "base_uri": "https://localhost:8080/"
    },
    "id": "ee3828b7",
    "outputId": "cfcfdee1-b69f-4b68-e2c3-a3a7a85e98e6"
   },
   "outputs": [],
   "source": [
    "empresa_1[\"preco_minimo\"].mean()"
   ]
  },
  {
   "cell_type": "code",
   "execution_count": null,
   "id": "2fa88159",
   "metadata": {
    "colab": {
     "base_uri": "https://localhost:8080/"
    },
    "id": "2fa88159",
    "outputId": "8fceac40-7eae-410e-95b5-66151bd93ffb"
   },
   "outputs": [],
   "source": [
    "empresa_1[\"preco_minimo\"].median()"
   ]
  },
  {
   "cell_type": "code",
   "execution_count": null,
   "id": "aee2eb8c",
   "metadata": {
    "colab": {
     "base_uri": "https://localhost:8080/",
     "height": 296
    },
    "id": "aee2eb8c",
    "outputId": "fabad87a-4af0-44ec-fbde-283f051ffe25"
   },
   "outputs": [],
   "source": [
    "boxplot_empresa1_minimo_plt = sns.boxplot(x = empresa_1[\"preco_minimo\"])\n",
    "boxplot_empresa1_minimo_plt.set_ylabel('Outubro', fontsize=14)\n",
    "\n",
    "boxplot_empresa1_minimo_plt.plot()\n",
    "\n",
    "\n",
    "plt.title('Preço minímo da PETRE') # em R$ - Reais\n",
    "\n",
    "plt.show()"
   ]
  },
  {
   "cell_type": "code",
   "execution_count": null,
   "id": "d03fd816",
   "metadata": {
    "colab": {
     "base_uri": "https://localhost:8080/"
    },
    "id": "d03fd816",
    "outputId": "e53d3129-bb8a-4c48-f92c-64fdf3c2cbee"
   },
   "outputs": [],
   "source": [
    "empresa_1[\"preco_abertura\"].std()"
   ]
  },
  {
   "cell_type": "code",
   "execution_count": null,
   "id": "0f88a5f9",
   "metadata": {
    "colab": {
     "base_uri": "https://localhost:8080/"
    },
    "id": "0f88a5f9",
    "outputId": "4eef3024-c43b-4c9c-e735-3b57f316d7a1"
   },
   "outputs": [],
   "source": [
    "empresa_1[\"preco_abertura\"].mean()"
   ]
  },
  {
   "cell_type": "code",
   "execution_count": null,
   "id": "04d07503",
   "metadata": {
    "colab": {
     "base_uri": "https://localhost:8080/"
    },
    "id": "04d07503",
    "outputId": "7be2f743-b9fc-4fdd-fab9-e0430ac695dd"
   },
   "outputs": [],
   "source": [
    "empresa_1[\"preco_abertura\"].median()"
   ]
  },
  {
   "cell_type": "code",
   "execution_count": null,
   "id": "1e84cf50",
   "metadata": {
    "colab": {
     "base_uri": "https://localhost:8080/",
     "height": 296
    },
    "id": "1e84cf50",
    "outputId": "d0516aa1-472a-40a5-baa4-8d714ada5e8c"
   },
   "outputs": [],
   "source": [
    "boxplot_empresa1_abertura_plt = sns.boxplot(x = empresa_1[\"preco_abertura\"])\n",
    "boxplot_empresa1_abertura_plt.set_ylabel('Outubro', fontsize=14)\n",
    "\n",
    "boxplot_empresa1_abertura_plt.plot()\n",
    "\n",
    "\n",
    "plt.title('Preço de abertura da PETRE') # em R$ - Reais\n",
    "\n",
    "plt.show()"
   ]
  }
 ],
 "metadata": {
  "colab": {
   "collapsed_sections": [
    "d245a97b",
    "ceaf8c73",
    "453838c0",
    "b257391d"
   ],
   "provenance": []
  },
  "kernelspec": {
   "display_name": "Python 3 (ipykernel)",
   "language": "python",
   "name": "python3"
  },
  "language_info": {
   "codemirror_mode": {
    "name": "ipython",
    "version": 3
   },
   "file_extension": ".py",
   "mimetype": "text/x-python",
   "name": "python",
   "nbconvert_exporter": "python",
   "pygments_lexer": "ipython3",
   "version": "3.11.0"
  },
  "vscode": {
   "interpreter": {
    "hash": "07f25d79d22bb07f853fe60dc6a8951878331861792a9e3972b395129bc8db22"
   }
  }
 },
 "nbformat": 4,
 "nbformat_minor": 5
}
