{
 "cells": [
  {
   "cell_type": "code",
   "execution_count": 206,
   "id": "3da4a976",
   "metadata": {},
   "outputs": [],
   "source": [
    "import pandas as pd\n",
    "import matplotlib.pyplot as plt\n",
    "import seaborn as sns\n",
    "\n",
    "## Séries históricas disponíveis em\n",
    "## http://www.b3.com.br/pt_br/market-data-e-indices/servicos-de-dados/market-data/historico/mercado-a-vista/series-historicas/\n",
    "arquivo_bovespa = 'datasets/COTAHIST_M102022.TXT'\n",
    "\n",
    "\n",
    "## Estrutura do arquivo disponível em \n",
    "## http://www.b3.com.br/data/files/33/67/B9/50/D84057102C784E47AC094EA8/SeriesHistoricas_Layout.pdf\n",
    "tamanho_campos=[2,8,2,12,3,12,10,3,4,13,13,13,13,13,13,13,5,18,18,13,1,8,7,13,12,3]\n",
    "\n",
    "dados_acoes=pd.read_fwf(arquivo_bovespa, widths=tamanho_campos, header=0)"
   ]
  },
  {
   "cell_type": "code",
   "execution_count": 207,
   "id": "49df83c4",
   "metadata": {},
   "outputs": [],
   "source": [
    "## Nomear as colunas\n",
    "\n",
    "dados_acoes.columns = [\n",
    "\"tipo_registro\",\n",
    "\"data_pregao\",\n",
    "\"cod_bdi\",\n",
    "\"cod_negociacao\",\n",
    "\"tipo_mercado\",\n",
    "\"empresa\",\n",
    "\"especificacao_papel\",\n",
    "\"prazo_dias_merc_termo\",\n",
    "\"moeda_referencia\",\n",
    "\"preco_abertura\",\n",
    "\"preco_maximo\",\n",
    "\"preco_minimo\",\n",
    "\"preco_medio\",\n",
    "\"preco_ultimo_negocio\",\n",
    "\"preco_melhor_oferta_compra\",\n",
    "\"preco_melhor_oferta_venda\",\n",
    "\"numero_negocios\",\n",
    "\"quantidade_papeis_negociados\",\n",
    "\"volume_total_negociado\",\n",
    "\"preco_exercicio\",\n",
    "\"ìndicador_correcao_precos\",\n",
    "\"data_vencimento\" ,\n",
    "\"fator_cotacao\",\n",
    "\"preco_exercicio_pontos\",\n",
    "\"codigo_isin\",\n",
    "\"num_distribuicao_papel\"]\n",
    "\n",
    "# Eliminar a última linha\n",
    "linha=len(dados_acoes[\"data_pregao\"])\n",
    "dados_acoes=dados_acoes.drop(linha-1)\n",
    "\n",
    "# Ajustar valores com virgula (dividir os valores dessas colunas por 100)\n",
    "listaVirgula=[\n",
    "\"preco_abertura\",\n",
    "\"preco_maximo\",\n",
    "\"preco_minimo\",\n",
    "\"preco_medio\",\n",
    "\"preco_ultimo_negocio\",\n",
    "\"preco_melhor_oferta_compra\",\n",
    "\"preco_melhor_oferta_venda\",\n",
    "\"volume_total_negociado\",\n",
    "\"preco_exercicio\",\n",
    "\"preco_exercicio_pontos\"\n",
    "]\n",
    "\n",
    "for coluna in listaVirgula:\n",
    "    dados_acoes[coluna]=[i/100. for i in dados_acoes[coluna]]"
   ]
  },
  {
   "cell_type": "code",
   "execution_count": 208,
   "id": "b7ac16eb",
   "metadata": {},
   "outputs": [],
   "source": [
    "dados_acoes.drop([\"moeda_referencia\"], axis=1, inplace=True)"
   ]
  },
  {
   "cell_type": "code",
   "execution_count": 209,
   "id": "d8174b30",
   "metadata": {},
   "outputs": [
    {
     "data": {
      "text/plain": [
       "PETRE           10027\n",
       "VALEE            6220\n",
       "PETR             4858\n",
       "BBASE            3892\n",
       "MGLUE            3198\n",
       "                ...  \n",
       "THE JM SMUCK        1\n",
       "FII JASC REN        1\n",
       "BUMBLE INC          1\n",
       "WEC ENERGY G        1\n",
       "PPL CORP            1\n",
       "Name: empresa, Length: 2176, dtype: int64"
      ]
     },
     "execution_count": 209,
     "metadata": {},
     "output_type": "execute_result"
    }
   ],
   "source": [
    "dados_acoes[\"empresa\"].value_counts()"
   ]
  },
  {
   "cell_type": "code",
   "execution_count": 210,
   "id": "e0cc416e",
   "metadata": {},
   "outputs": [
    {
     "data": {
      "text/html": [
       "<div>\n",
       "<style scoped>\n",
       "    .dataframe tbody tr th:only-of-type {\n",
       "        vertical-align: middle;\n",
       "    }\n",
       "\n",
       "    .dataframe tbody tr th {\n",
       "        vertical-align: top;\n",
       "    }\n",
       "\n",
       "    .dataframe thead th {\n",
       "        text-align: right;\n",
       "    }\n",
       "</style>\n",
       "<table border=\"1\" class=\"dataframe\">\n",
       "  <thead>\n",
       "    <tr style=\"text-align: right;\">\n",
       "      <th></th>\n",
       "      <th>tipo_registro</th>\n",
       "      <th>data_pregao</th>\n",
       "      <th>cod_bdi</th>\n",
       "      <th>cod_negociacao</th>\n",
       "      <th>tipo_mercado</th>\n",
       "      <th>empresa</th>\n",
       "      <th>especificacao_papel</th>\n",
       "      <th>prazo_dias_merc_termo</th>\n",
       "      <th>preco_abertura</th>\n",
       "      <th>preco_maximo</th>\n",
       "      <th>...</th>\n",
       "      <th>numero_negocios</th>\n",
       "      <th>quantidade_papeis_negociados</th>\n",
       "      <th>volume_total_negociado</th>\n",
       "      <th>preco_exercicio</th>\n",
       "      <th>ìndicador_correcao_precos</th>\n",
       "      <th>data_vencimento</th>\n",
       "      <th>fator_cotacao</th>\n",
       "      <th>preco_exercicio_pontos</th>\n",
       "      <th>codigo_isin</th>\n",
       "      <th>num_distribuicao_papel</th>\n",
       "    </tr>\n",
       "  </thead>\n",
       "  <tbody>\n",
       "    <tr>\n",
       "      <th>0</th>\n",
       "      <td>1</td>\n",
       "      <td>20221003</td>\n",
       "      <td>2.0</td>\n",
       "      <td>ELMD3</td>\n",
       "      <td>10</td>\n",
       "      <td>ELETROMIDIA</td>\n",
       "      <td>ON      NM</td>\n",
       "      <td>NaN</td>\n",
       "      <td>10.80</td>\n",
       "      <td>11.73</td>\n",
       "      <td>...</td>\n",
       "      <td>680.0</td>\n",
       "      <td>216300.0</td>\n",
       "      <td>2469914.0</td>\n",
       "      <td>0.00</td>\n",
       "      <td>0.0</td>\n",
       "      <td>99991231.0</td>\n",
       "      <td>1.0</td>\n",
       "      <td>0.0</td>\n",
       "      <td>BRELMDACNOR3</td>\n",
       "      <td>100.0</td>\n",
       "    </tr>\n",
       "    <tr>\n",
       "      <th>1</th>\n",
       "      <td>1</td>\n",
       "      <td>20221003</td>\n",
       "      <td>2.0</td>\n",
       "      <td>OFSA3</td>\n",
       "      <td>10</td>\n",
       "      <td>OUROFINO S/A</td>\n",
       "      <td>ON      NM</td>\n",
       "      <td>NaN</td>\n",
       "      <td>23.17</td>\n",
       "      <td>23.17</td>\n",
       "      <td>...</td>\n",
       "      <td>37.0</td>\n",
       "      <td>7300.0</td>\n",
       "      <td>166458.0</td>\n",
       "      <td>0.00</td>\n",
       "      <td>0.0</td>\n",
       "      <td>99991231.0</td>\n",
       "      <td>1.0</td>\n",
       "      <td>0.0</td>\n",
       "      <td>BROFSAACNOR7</td>\n",
       "      <td>114.0</td>\n",
       "    </tr>\n",
       "    <tr>\n",
       "      <th>2</th>\n",
       "      <td>1</td>\n",
       "      <td>20221003</td>\n",
       "      <td>2.0</td>\n",
       "      <td>SMFT3</td>\n",
       "      <td>10</td>\n",
       "      <td>SMART FIT</td>\n",
       "      <td>ON      NM</td>\n",
       "      <td>NaN</td>\n",
       "      <td>15.68</td>\n",
       "      <td>16.60</td>\n",
       "      <td>...</td>\n",
       "      <td>8482.0</td>\n",
       "      <td>1950600.0</td>\n",
       "      <td>31486931.0</td>\n",
       "      <td>0.00</td>\n",
       "      <td>0.0</td>\n",
       "      <td>99991231.0</td>\n",
       "      <td>1.0</td>\n",
       "      <td>0.0</td>\n",
       "      <td>BRSMFTACNOR1</td>\n",
       "      <td>109.0</td>\n",
       "    </tr>\n",
       "    <tr>\n",
       "      <th>3</th>\n",
       "      <td>1</td>\n",
       "      <td>20221003</td>\n",
       "      <td>2.0</td>\n",
       "      <td>HOME34</td>\n",
       "      <td>10</td>\n",
       "      <td>HOME DEPOT</td>\n",
       "      <td>DRN</td>\n",
       "      <td>NaN</td>\n",
       "      <td>52.53</td>\n",
       "      <td>52.84</td>\n",
       "      <td>...</td>\n",
       "      <td>494.0</td>\n",
       "      <td>27860.0</td>\n",
       "      <td>1467963.7</td>\n",
       "      <td>0.00</td>\n",
       "      <td>0.0</td>\n",
       "      <td>99991231.0</td>\n",
       "      <td>1.0</td>\n",
       "      <td>0.0</td>\n",
       "      <td>BRHOMEBDR002</td>\n",
       "      <td>143.0</td>\n",
       "    </tr>\n",
       "    <tr>\n",
       "      <th>4</th>\n",
       "      <td>1</td>\n",
       "      <td>20221003</td>\n",
       "      <td>2.0</td>\n",
       "      <td>BRGE3</td>\n",
       "      <td>10</td>\n",
       "      <td>ALFA CONSORC</td>\n",
       "      <td>ON</td>\n",
       "      <td>NaN</td>\n",
       "      <td>9.95</td>\n",
       "      <td>9.95</td>\n",
       "      <td>...</td>\n",
       "      <td>2.0</td>\n",
       "      <td>200.0</td>\n",
       "      <td>1912.0</td>\n",
       "      <td>0.00</td>\n",
       "      <td>0.0</td>\n",
       "      <td>99991231.0</td>\n",
       "      <td>1.0</td>\n",
       "      <td>0.0</td>\n",
       "      <td>BRBRGEACNOR6</td>\n",
       "      <td>203.0</td>\n",
       "    </tr>\n",
       "    <tr>\n",
       "      <th>...</th>\n",
       "      <td>...</td>\n",
       "      <td>...</td>\n",
       "      <td>...</td>\n",
       "      <td>...</td>\n",
       "      <td>...</td>\n",
       "      <td>...</td>\n",
       "      <td>...</td>\n",
       "      <td>...</td>\n",
       "      <td>...</td>\n",
       "      <td>...</td>\n",
       "      <td>...</td>\n",
       "      <td>...</td>\n",
       "      <td>...</td>\n",
       "      <td>...</td>\n",
       "      <td>...</td>\n",
       "      <td>...</td>\n",
       "      <td>...</td>\n",
       "      <td>...</td>\n",
       "      <td>...</td>\n",
       "      <td>...</td>\n",
       "      <td>...</td>\n",
       "    </tr>\n",
       "    <tr>\n",
       "      <th>181801</th>\n",
       "      <td>1</td>\n",
       "      <td>20221018</td>\n",
       "      <td>78.0</td>\n",
       "      <td>ITSAI99</td>\n",
       "      <td>70</td>\n",
       "      <td>ITSA</td>\n",
       "      <td>PN      N1</td>\n",
       "      <td>0.0</td>\n",
       "      <td>2.37</td>\n",
       "      <td>2.37</td>\n",
       "      <td>...</td>\n",
       "      <td>1.0</td>\n",
       "      <td>1000.0</td>\n",
       "      <td>2370.0</td>\n",
       "      <td>9.06</td>\n",
       "      <td>0.0</td>\n",
       "      <td>20230915.0</td>\n",
       "      <td>1.0</td>\n",
       "      <td>0.0</td>\n",
       "      <td>BRITSAACNPR7</td>\n",
       "      <td>412.0</td>\n",
       "    </tr>\n",
       "    <tr>\n",
       "      <th>181802</th>\n",
       "      <td>1</td>\n",
       "      <td>20221019</td>\n",
       "      <td>78.0</td>\n",
       "      <td>ITSAI99</td>\n",
       "      <td>70</td>\n",
       "      <td>ITSA</td>\n",
       "      <td>PN      N1</td>\n",
       "      <td>0.0</td>\n",
       "      <td>2.43</td>\n",
       "      <td>2.43</td>\n",
       "      <td>...</td>\n",
       "      <td>3.0</td>\n",
       "      <td>1500.0</td>\n",
       "      <td>3639.0</td>\n",
       "      <td>9.06</td>\n",
       "      <td>0.0</td>\n",
       "      <td>20230915.0</td>\n",
       "      <td>1.0</td>\n",
       "      <td>0.0</td>\n",
       "      <td>BRITSAACNPR7</td>\n",
       "      <td>412.0</td>\n",
       "    </tr>\n",
       "    <tr>\n",
       "      <th>181803</th>\n",
       "      <td>1</td>\n",
       "      <td>20221021</td>\n",
       "      <td>78.0</td>\n",
       "      <td>ITSAI99</td>\n",
       "      <td>70</td>\n",
       "      <td>ITSA</td>\n",
       "      <td>PN      N1</td>\n",
       "      <td>0.0</td>\n",
       "      <td>2.68</td>\n",
       "      <td>2.68</td>\n",
       "      <td>...</td>\n",
       "      <td>1.0</td>\n",
       "      <td>500.0</td>\n",
       "      <td>1340.0</td>\n",
       "      <td>9.06</td>\n",
       "      <td>0.0</td>\n",
       "      <td>20230915.0</td>\n",
       "      <td>1.0</td>\n",
       "      <td>0.0</td>\n",
       "      <td>BRITSAACNPR7</td>\n",
       "      <td>412.0</td>\n",
       "    </tr>\n",
       "    <tr>\n",
       "      <th>181804</th>\n",
       "      <td>1</td>\n",
       "      <td>20221024</td>\n",
       "      <td>78.0</td>\n",
       "      <td>ITSAI99</td>\n",
       "      <td>70</td>\n",
       "      <td>ITSA</td>\n",
       "      <td>PN      N1</td>\n",
       "      <td>0.0</td>\n",
       "      <td>2.59</td>\n",
       "      <td>2.59</td>\n",
       "      <td>...</td>\n",
       "      <td>1.0</td>\n",
       "      <td>1000.0</td>\n",
       "      <td>2590.0</td>\n",
       "      <td>9.06</td>\n",
       "      <td>0.0</td>\n",
       "      <td>20230915.0</td>\n",
       "      <td>1.0</td>\n",
       "      <td>0.0</td>\n",
       "      <td>BRITSAACNPR7</td>\n",
       "      <td>412.0</td>\n",
       "    </tr>\n",
       "    <tr>\n",
       "      <th>181805</th>\n",
       "      <td>1</td>\n",
       "      <td>20221025</td>\n",
       "      <td>78.0</td>\n",
       "      <td>ITSAI99</td>\n",
       "      <td>70</td>\n",
       "      <td>ITSA</td>\n",
       "      <td>PN      N1</td>\n",
       "      <td>0.0</td>\n",
       "      <td>2.55</td>\n",
       "      <td>2.55</td>\n",
       "      <td>...</td>\n",
       "      <td>4.0</td>\n",
       "      <td>1100.0</td>\n",
       "      <td>2794.0</td>\n",
       "      <td>9.06</td>\n",
       "      <td>0.0</td>\n",
       "      <td>20230915.0</td>\n",
       "      <td>1.0</td>\n",
       "      <td>0.0</td>\n",
       "      <td>BRITSAACNPR7</td>\n",
       "      <td>412.0</td>\n",
       "    </tr>\n",
       "  </tbody>\n",
       "</table>\n",
       "<p>181806 rows × 25 columns</p>\n",
       "</div>"
      ],
      "text/plain": [
       "        tipo_registro data_pregao  cod_bdi cod_negociacao  tipo_mercado  \\\n",
       "0                   1    20221003      2.0          ELMD3            10   \n",
       "1                   1    20221003      2.0          OFSA3            10   \n",
       "2                   1    20221003      2.0          SMFT3            10   \n",
       "3                   1    20221003      2.0         HOME34            10   \n",
       "4                   1    20221003      2.0          BRGE3            10   \n",
       "...               ...         ...      ...            ...           ...   \n",
       "181801              1    20221018     78.0        ITSAI99            70   \n",
       "181802              1    20221019     78.0        ITSAI99            70   \n",
       "181803              1    20221021     78.0        ITSAI99            70   \n",
       "181804              1    20221024     78.0        ITSAI99            70   \n",
       "181805              1    20221025     78.0        ITSAI99            70   \n",
       "\n",
       "             empresa especificacao_papel  prazo_dias_merc_termo  \\\n",
       "0        ELETROMIDIA          ON      NM                    NaN   \n",
       "1       OUROFINO S/A          ON      NM                    NaN   \n",
       "2          SMART FIT          ON      NM                    NaN   \n",
       "3         HOME DEPOT                 DRN                    NaN   \n",
       "4       ALFA CONSORC                  ON                    NaN   \n",
       "...              ...                 ...                    ...   \n",
       "181801          ITSA          PN      N1                    0.0   \n",
       "181802          ITSA          PN      N1                    0.0   \n",
       "181803          ITSA          PN      N1                    0.0   \n",
       "181804          ITSA          PN      N1                    0.0   \n",
       "181805          ITSA          PN      N1                    0.0   \n",
       "\n",
       "        preco_abertura  preco_maximo  ...  numero_negocios  \\\n",
       "0                10.80         11.73  ...            680.0   \n",
       "1                23.17         23.17  ...             37.0   \n",
       "2                15.68         16.60  ...           8482.0   \n",
       "3                52.53         52.84  ...            494.0   \n",
       "4                 9.95          9.95  ...              2.0   \n",
       "...                ...           ...  ...              ...   \n",
       "181801            2.37          2.37  ...              1.0   \n",
       "181802            2.43          2.43  ...              3.0   \n",
       "181803            2.68          2.68  ...              1.0   \n",
       "181804            2.59          2.59  ...              1.0   \n",
       "181805            2.55          2.55  ...              4.0   \n",
       "\n",
       "        quantidade_papeis_negociados  volume_total_negociado  preco_exercicio  \\\n",
       "0                           216300.0               2469914.0             0.00   \n",
       "1                             7300.0                166458.0             0.00   \n",
       "2                          1950600.0              31486931.0             0.00   \n",
       "3                            27860.0               1467963.7             0.00   \n",
       "4                              200.0                  1912.0             0.00   \n",
       "...                              ...                     ...              ...   \n",
       "181801                        1000.0                  2370.0             9.06   \n",
       "181802                        1500.0                  3639.0             9.06   \n",
       "181803                         500.0                  1340.0             9.06   \n",
       "181804                        1000.0                  2590.0             9.06   \n",
       "181805                        1100.0                  2794.0             9.06   \n",
       "\n",
       "        ìndicador_correcao_precos  data_vencimento  fator_cotacao  \\\n",
       "0                             0.0       99991231.0            1.0   \n",
       "1                             0.0       99991231.0            1.0   \n",
       "2                             0.0       99991231.0            1.0   \n",
       "3                             0.0       99991231.0            1.0   \n",
       "4                             0.0       99991231.0            1.0   \n",
       "...                           ...              ...            ...   \n",
       "181801                        0.0       20230915.0            1.0   \n",
       "181802                        0.0       20230915.0            1.0   \n",
       "181803                        0.0       20230915.0            1.0   \n",
       "181804                        0.0       20230915.0            1.0   \n",
       "181805                        0.0       20230915.0            1.0   \n",
       "\n",
       "        preco_exercicio_pontos   codigo_isin  num_distribuicao_papel  \n",
       "0                          0.0  BRELMDACNOR3                   100.0  \n",
       "1                          0.0  BROFSAACNOR7                   114.0  \n",
       "2                          0.0  BRSMFTACNOR1                   109.0  \n",
       "3                          0.0  BRHOMEBDR002                   143.0  \n",
       "4                          0.0  BRBRGEACNOR6                   203.0  \n",
       "...                        ...           ...                     ...  \n",
       "181801                     0.0  BRITSAACNPR7                   412.0  \n",
       "181802                     0.0  BRITSAACNPR7                   412.0  \n",
       "181803                     0.0  BRITSAACNPR7                   412.0  \n",
       "181804                     0.0  BRITSAACNPR7                   412.0  \n",
       "181805                     0.0  BRITSAACNPR7                   412.0  \n",
       "\n",
       "[181806 rows x 25 columns]"
      ]
     },
     "execution_count": 210,
     "metadata": {},
     "output_type": "execute_result"
    }
   ],
   "source": [
    "dados_acoes"
   ]
  },
  {
   "cell_type": "code",
   "execution_count": 211,
   "id": "05a56736",
   "metadata": {},
   "outputs": [],
   "source": [
    "empresa_1 = dados_acoes[dados_acoes[\"empresa\"] == \"PETRE\"]"
   ]
  },
  {
   "cell_type": "code",
   "execution_count": 212,
   "id": "063178ef",
   "metadata": {
    "scrolled": true
   },
   "outputs": [
    {
     "data": {
      "text/html": [
       "<div>\n",
       "<style scoped>\n",
       "    .dataframe tbody tr th:only-of-type {\n",
       "        vertical-align: middle;\n",
       "    }\n",
       "\n",
       "    .dataframe tbody tr th {\n",
       "        vertical-align: top;\n",
       "    }\n",
       "\n",
       "    .dataframe thead th {\n",
       "        text-align: right;\n",
       "    }\n",
       "</style>\n",
       "<table border=\"1\" class=\"dataframe\">\n",
       "  <thead>\n",
       "    <tr style=\"text-align: right;\">\n",
       "      <th></th>\n",
       "      <th>tipo_registro</th>\n",
       "      <th>data_pregao</th>\n",
       "      <th>cod_bdi</th>\n",
       "      <th>cod_negociacao</th>\n",
       "      <th>tipo_mercado</th>\n",
       "      <th>empresa</th>\n",
       "      <th>especificacao_papel</th>\n",
       "      <th>prazo_dias_merc_termo</th>\n",
       "      <th>preco_abertura</th>\n",
       "      <th>preco_maximo</th>\n",
       "      <th>...</th>\n",
       "      <th>numero_negocios</th>\n",
       "      <th>quantidade_papeis_negociados</th>\n",
       "      <th>volume_total_negociado</th>\n",
       "      <th>preco_exercicio</th>\n",
       "      <th>ìndicador_correcao_precos</th>\n",
       "      <th>data_vencimento</th>\n",
       "      <th>fator_cotacao</th>\n",
       "      <th>preco_exercicio_pontos</th>\n",
       "      <th>codigo_isin</th>\n",
       "      <th>num_distribuicao_papel</th>\n",
       "    </tr>\n",
       "  </thead>\n",
       "  <tbody>\n",
       "    <tr>\n",
       "      <th>56292</th>\n",
       "      <td>1</td>\n",
       "      <td>20221004</td>\n",
       "      <td>82.0</td>\n",
       "      <td>PETRW358</td>\n",
       "      <td>80</td>\n",
       "      <td>PETRE</td>\n",
       "      <td>ON      N2</td>\n",
       "      <td>0.0</td>\n",
       "      <td>0.48</td>\n",
       "      <td>0.48</td>\n",
       "      <td>...</td>\n",
       "      <td>15.0</td>\n",
       "      <td>7500.0</td>\n",
       "      <td>3597.0</td>\n",
       "      <td>29.18</td>\n",
       "      <td>0.0</td>\n",
       "      <td>20221118.0</td>\n",
       "      <td>1.0</td>\n",
       "      <td>0.0</td>\n",
       "      <td>BRPETRACNOR9</td>\n",
       "      <td>196.0</td>\n",
       "    </tr>\n",
       "    <tr>\n",
       "      <th>56293</th>\n",
       "      <td>1</td>\n",
       "      <td>20221005</td>\n",
       "      <td>82.0</td>\n",
       "      <td>PETRW358</td>\n",
       "      <td>80</td>\n",
       "      <td>PETRE</td>\n",
       "      <td>ON      N2</td>\n",
       "      <td>0.0</td>\n",
       "      <td>0.48</td>\n",
       "      <td>0.48</td>\n",
       "      <td>...</td>\n",
       "      <td>2.0</td>\n",
       "      <td>2000.0</td>\n",
       "      <td>900.0</td>\n",
       "      <td>29.18</td>\n",
       "      <td>0.0</td>\n",
       "      <td>20221118.0</td>\n",
       "      <td>1.0</td>\n",
       "      <td>0.0</td>\n",
       "      <td>BRPETRACNOR9</td>\n",
       "      <td>196.0</td>\n",
       "    </tr>\n",
       "    <tr>\n",
       "      <th>56294</th>\n",
       "      <td>1</td>\n",
       "      <td>20221006</td>\n",
       "      <td>82.0</td>\n",
       "      <td>PETRW358</td>\n",
       "      <td>80</td>\n",
       "      <td>PETRE</td>\n",
       "      <td>ON      N2</td>\n",
       "      <td>0.0</td>\n",
       "      <td>0.36</td>\n",
       "      <td>0.36</td>\n",
       "      <td>...</td>\n",
       "      <td>3.0</td>\n",
       "      <td>6000.0</td>\n",
       "      <td>1530.0</td>\n",
       "      <td>29.18</td>\n",
       "      <td>0.0</td>\n",
       "      <td>20221118.0</td>\n",
       "      <td>1.0</td>\n",
       "      <td>0.0</td>\n",
       "      <td>BRPETRACNOR9</td>\n",
       "      <td>196.0</td>\n",
       "    </tr>\n",
       "    <tr>\n",
       "      <th>56295</th>\n",
       "      <td>1</td>\n",
       "      <td>20221007</td>\n",
       "      <td>82.0</td>\n",
       "      <td>PETRW358</td>\n",
       "      <td>80</td>\n",
       "      <td>PETRE</td>\n",
       "      <td>ON      N2</td>\n",
       "      <td>0.0</td>\n",
       "      <td>0.23</td>\n",
       "      <td>0.29</td>\n",
       "      <td>...</td>\n",
       "      <td>17.0</td>\n",
       "      <td>15200.0</td>\n",
       "      <td>3775.0</td>\n",
       "      <td>29.18</td>\n",
       "      <td>0.0</td>\n",
       "      <td>20221118.0</td>\n",
       "      <td>1.0</td>\n",
       "      <td>0.0</td>\n",
       "      <td>BRPETRACNOR9</td>\n",
       "      <td>196.0</td>\n",
       "    </tr>\n",
       "    <tr>\n",
       "      <th>56296</th>\n",
       "      <td>1</td>\n",
       "      <td>20221011</td>\n",
       "      <td>82.0</td>\n",
       "      <td>PETRW358</td>\n",
       "      <td>80</td>\n",
       "      <td>PETRE</td>\n",
       "      <td>ON      N2</td>\n",
       "      <td>0.0</td>\n",
       "      <td>0.30</td>\n",
       "      <td>0.30</td>\n",
       "      <td>...</td>\n",
       "      <td>1.0</td>\n",
       "      <td>3000.0</td>\n",
       "      <td>900.0</td>\n",
       "      <td>29.18</td>\n",
       "      <td>0.0</td>\n",
       "      <td>20221118.0</td>\n",
       "      <td>1.0</td>\n",
       "      <td>0.0</td>\n",
       "      <td>BRPETRACNOR9</td>\n",
       "      <td>196.0</td>\n",
       "    </tr>\n",
       "    <tr>\n",
       "      <th>...</th>\n",
       "      <td>...</td>\n",
       "      <td>...</td>\n",
       "      <td>...</td>\n",
       "      <td>...</td>\n",
       "      <td>...</td>\n",
       "      <td>...</td>\n",
       "      <td>...</td>\n",
       "      <td>...</td>\n",
       "      <td>...</td>\n",
       "      <td>...</td>\n",
       "      <td>...</td>\n",
       "      <td>...</td>\n",
       "      <td>...</td>\n",
       "      <td>...</td>\n",
       "      <td>...</td>\n",
       "      <td>...</td>\n",
       "      <td>...</td>\n",
       "      <td>...</td>\n",
       "      <td>...</td>\n",
       "      <td>...</td>\n",
       "      <td>...</td>\n",
       "    </tr>\n",
       "    <tr>\n",
       "      <th>180713</th>\n",
       "      <td>1</td>\n",
       "      <td>20221026</td>\n",
       "      <td>78.0</td>\n",
       "      <td>PETRK822</td>\n",
       "      <td>70</td>\n",
       "      <td>PETRE</td>\n",
       "      <td>PN      N2</td>\n",
       "      <td>0.0</td>\n",
       "      <td>24.17</td>\n",
       "      <td>25.10</td>\n",
       "      <td>...</td>\n",
       "      <td>12.0</td>\n",
       "      <td>1200.0</td>\n",
       "      <td>29424.0</td>\n",
       "      <td>8.22</td>\n",
       "      <td>0.0</td>\n",
       "      <td>20221118.0</td>\n",
       "      <td>1.0</td>\n",
       "      <td>0.0</td>\n",
       "      <td>BRPETRACNPR6</td>\n",
       "      <td>204.0</td>\n",
       "    </tr>\n",
       "    <tr>\n",
       "      <th>180714</th>\n",
       "      <td>1</td>\n",
       "      <td>20221028</td>\n",
       "      <td>78.0</td>\n",
       "      <td>PETRK822</td>\n",
       "      <td>70</td>\n",
       "      <td>PETRE</td>\n",
       "      <td>PN      N2</td>\n",
       "      <td>0.0</td>\n",
       "      <td>24.39</td>\n",
       "      <td>24.39</td>\n",
       "      <td>...</td>\n",
       "      <td>5.0</td>\n",
       "      <td>500.0</td>\n",
       "      <td>12087.0</td>\n",
       "      <td>8.22</td>\n",
       "      <td>0.0</td>\n",
       "      <td>20221118.0</td>\n",
       "      <td>1.0</td>\n",
       "      <td>0.0</td>\n",
       "      <td>BRPETRACNPR6</td>\n",
       "      <td>204.0</td>\n",
       "    </tr>\n",
       "    <tr>\n",
       "      <th>180715</th>\n",
       "      <td>1</td>\n",
       "      <td>20221031</td>\n",
       "      <td>78.0</td>\n",
       "      <td>PETRK822</td>\n",
       "      <td>70</td>\n",
       "      <td>PETRE</td>\n",
       "      <td>PN      N2</td>\n",
       "      <td>0.0</td>\n",
       "      <td>22.12</td>\n",
       "      <td>22.12</td>\n",
       "      <td>...</td>\n",
       "      <td>3.0</td>\n",
       "      <td>300.0</td>\n",
       "      <td>6534.0</td>\n",
       "      <td>8.22</td>\n",
       "      <td>0.0</td>\n",
       "      <td>20221118.0</td>\n",
       "      <td>1.0</td>\n",
       "      <td>0.0</td>\n",
       "      <td>BRPETRACNPR6</td>\n",
       "      <td>204.0</td>\n",
       "    </tr>\n",
       "    <tr>\n",
       "      <th>180721</th>\n",
       "      <td>1</td>\n",
       "      <td>20221013</td>\n",
       "      <td>78.0</td>\n",
       "      <td>PETRC374</td>\n",
       "      <td>70</td>\n",
       "      <td>PETRE</td>\n",
       "      <td>PN      N2</td>\n",
       "      <td>0.0</td>\n",
       "      <td>2.67</td>\n",
       "      <td>2.67</td>\n",
       "      <td>...</td>\n",
       "      <td>1.0</td>\n",
       "      <td>10000.0</td>\n",
       "      <td>26700.0</td>\n",
       "      <td>37.52</td>\n",
       "      <td>0.0</td>\n",
       "      <td>20230317.0</td>\n",
       "      <td>1.0</td>\n",
       "      <td>0.0</td>\n",
       "      <td>BRPETRACNPR6</td>\n",
       "      <td>204.0</td>\n",
       "    </tr>\n",
       "    <tr>\n",
       "      <th>180728</th>\n",
       "      <td>1</td>\n",
       "      <td>20221024</td>\n",
       "      <td>78.0</td>\n",
       "      <td>PETRL152</td>\n",
       "      <td>70</td>\n",
       "      <td>PETRE</td>\n",
       "      <td>ON      N2</td>\n",
       "      <td>0.0</td>\n",
       "      <td>31.15</td>\n",
       "      <td>31.15</td>\n",
       "      <td>...</td>\n",
       "      <td>1.0</td>\n",
       "      <td>3700.0</td>\n",
       "      <td>115255.0</td>\n",
       "      <td>8.58</td>\n",
       "      <td>0.0</td>\n",
       "      <td>20221216.0</td>\n",
       "      <td>1.0</td>\n",
       "      <td>0.0</td>\n",
       "      <td>BRPETRACNOR9</td>\n",
       "      <td>196.0</td>\n",
       "    </tr>\n",
       "  </tbody>\n",
       "</table>\n",
       "<p>10027 rows × 25 columns</p>\n",
       "</div>"
      ],
      "text/plain": [
       "        tipo_registro data_pregao  cod_bdi cod_negociacao  tipo_mercado  \\\n",
       "56292               1    20221004     82.0       PETRW358            80   \n",
       "56293               1    20221005     82.0       PETRW358            80   \n",
       "56294               1    20221006     82.0       PETRW358            80   \n",
       "56295               1    20221007     82.0       PETRW358            80   \n",
       "56296               1    20221011     82.0       PETRW358            80   \n",
       "...               ...         ...      ...            ...           ...   \n",
       "180713              1    20221026     78.0       PETRK822            70   \n",
       "180714              1    20221028     78.0       PETRK822            70   \n",
       "180715              1    20221031     78.0       PETRK822            70   \n",
       "180721              1    20221013     78.0       PETRC374            70   \n",
       "180728              1    20221024     78.0       PETRL152            70   \n",
       "\n",
       "       empresa especificacao_papel  prazo_dias_merc_termo  preco_abertura  \\\n",
       "56292    PETRE          ON      N2                    0.0            0.48   \n",
       "56293    PETRE          ON      N2                    0.0            0.48   \n",
       "56294    PETRE          ON      N2                    0.0            0.36   \n",
       "56295    PETRE          ON      N2                    0.0            0.23   \n",
       "56296    PETRE          ON      N2                    0.0            0.30   \n",
       "...        ...                 ...                    ...             ...   \n",
       "180713   PETRE          PN      N2                    0.0           24.17   \n",
       "180714   PETRE          PN      N2                    0.0           24.39   \n",
       "180715   PETRE          PN      N2                    0.0           22.12   \n",
       "180721   PETRE          PN      N2                    0.0            2.67   \n",
       "180728   PETRE          ON      N2                    0.0           31.15   \n",
       "\n",
       "        preco_maximo  ...  numero_negocios  quantidade_papeis_negociados  \\\n",
       "56292           0.48  ...             15.0                        7500.0   \n",
       "56293           0.48  ...              2.0                        2000.0   \n",
       "56294           0.36  ...              3.0                        6000.0   \n",
       "56295           0.29  ...             17.0                       15200.0   \n",
       "56296           0.30  ...              1.0                        3000.0   \n",
       "...              ...  ...              ...                           ...   \n",
       "180713         25.10  ...             12.0                        1200.0   \n",
       "180714         24.39  ...              5.0                         500.0   \n",
       "180715         22.12  ...              3.0                         300.0   \n",
       "180721          2.67  ...              1.0                       10000.0   \n",
       "180728         31.15  ...              1.0                        3700.0   \n",
       "\n",
       "        volume_total_negociado  preco_exercicio  ìndicador_correcao_precos  \\\n",
       "56292                   3597.0            29.18                        0.0   \n",
       "56293                    900.0            29.18                        0.0   \n",
       "56294                   1530.0            29.18                        0.0   \n",
       "56295                   3775.0            29.18                        0.0   \n",
       "56296                    900.0            29.18                        0.0   \n",
       "...                        ...              ...                        ...   \n",
       "180713                 29424.0             8.22                        0.0   \n",
       "180714                 12087.0             8.22                        0.0   \n",
       "180715                  6534.0             8.22                        0.0   \n",
       "180721                 26700.0            37.52                        0.0   \n",
       "180728                115255.0             8.58                        0.0   \n",
       "\n",
       "        data_vencimento  fator_cotacao  preco_exercicio_pontos   codigo_isin  \\\n",
       "56292        20221118.0            1.0                     0.0  BRPETRACNOR9   \n",
       "56293        20221118.0            1.0                     0.0  BRPETRACNOR9   \n",
       "56294        20221118.0            1.0                     0.0  BRPETRACNOR9   \n",
       "56295        20221118.0            1.0                     0.0  BRPETRACNOR9   \n",
       "56296        20221118.0            1.0                     0.0  BRPETRACNOR9   \n",
       "...                 ...            ...                     ...           ...   \n",
       "180713       20221118.0            1.0                     0.0  BRPETRACNPR6   \n",
       "180714       20221118.0            1.0                     0.0  BRPETRACNPR6   \n",
       "180715       20221118.0            1.0                     0.0  BRPETRACNPR6   \n",
       "180721       20230317.0            1.0                     0.0  BRPETRACNPR6   \n",
       "180728       20221216.0            1.0                     0.0  BRPETRACNOR9   \n",
       "\n",
       "        num_distribuicao_papel  \n",
       "56292                    196.0  \n",
       "56293                    196.0  \n",
       "56294                    196.0  \n",
       "56295                    196.0  \n",
       "56296                    196.0  \n",
       "...                        ...  \n",
       "180713                   204.0  \n",
       "180714                   204.0  \n",
       "180715                   204.0  \n",
       "180721                   204.0  \n",
       "180728                   196.0  \n",
       "\n",
       "[10027 rows x 25 columns]"
      ]
     },
     "execution_count": 212,
     "metadata": {},
     "output_type": "execute_result"
    }
   ],
   "source": [
    "empresa_1"
   ]
  },
  {
   "cell_type": "code",
   "execution_count": 213,
   "id": "cb78e030",
   "metadata": {},
   "outputs": [
    {
     "data": {
      "text/plain": [
       "1.7"
      ]
     },
     "execution_count": 213,
     "metadata": {},
     "output_type": "execute_result"
    }
   ],
   "source": [
    "empresa_1[\"preco_ultimo_negocio\"].median()"
   ]
  },
  {
   "cell_type": "code",
   "execution_count": 214,
   "id": "371483c9",
   "metadata": {},
   "outputs": [
    {
     "data": {
      "text/plain": [
       "5.729423534281389"
      ]
     },
     "execution_count": 214,
     "metadata": {},
     "output_type": "execute_result"
    }
   ],
   "source": [
    "empresa_1[\"preco_ultimo_negocio\"].std()"
   ]
  },
  {
   "cell_type": "code",
   "execution_count": 215,
   "id": "2c332862",
   "metadata": {},
   "outputs": [
    {
     "data": {
      "text/plain": [
       "4.105725541039194"
      ]
     },
     "execution_count": 215,
     "metadata": {},
     "output_type": "execute_result"
    }
   ],
   "source": [
    "empresa_1[\"preco_ultimo_negocio\"].mean()"
   ]
  },
  {
   "cell_type": "code",
   "execution_count": 216,
   "id": "35222974",
   "metadata": {},
   "outputs": [
    {
     "data": {
      "image/png": "[encoded data removed]",
      "text/plain": [
       "<Figure size 640x480 with 1 Axes>"
      ]
     },
     "metadata": {},
     "output_type": "display_data"
    }
   ],
   "source": [
    "boxplot_empresa1_precoultimo_plt = sns.boxplot(x=empresa_1[\"preco_ultimo_negocio\"]) # colocando o boxplot numa variável para manipular melhor\n",
    "boxplot_empresa1_precoultimo_plt.set_ylabel('Outubro', fontsize=14) # Aqui você renomeia o eixo que deseja e o tamanho da fonte\n",
    "\n",
    "boxplot_empresa1_precoultimo_plt.plot() # Aqui é como se o gráfico fosse ocultado até ser usado plt.show()\n",
    "\n",
    "# em R$ - Reais\n",
    "plt.title('Últimos preços negociados da PETRE') # O título que se deseja colocar acima do gráfico\n",
    "\n",
    "plt.show() # Impressão do gráfico"
   ]
  },
  {
   "cell_type": "code",
   "execution_count": 217,
   "id": "86d86262",
   "metadata": {},
   "outputs": [
    {
     "data": {
      "text/plain": [
       "6105593.487115127"
      ]
     },
     "execution_count": 217,
     "metadata": {},
     "output_type": "execute_result"
    }
   ],
   "source": [
    "empresa_1[\"volume_total_negociado\"].std()"
   ]
  },
  {
   "cell_type": "code",
   "execution_count": 218,
   "id": "e2e7ee5e",
   "metadata": {},
   "outputs": [
    {
     "data": {
      "text/plain": [
       "710625.8090156578"
      ]
     },
     "execution_count": 218,
     "metadata": {},
     "output_type": "execute_result"
    }
   ],
   "source": [
    "empresa_1[\"volume_total_negociado\"].mean()"
   ]
  },
  {
   "cell_type": "code",
   "execution_count": 219,
   "id": "dedd841b",
   "metadata": {},
   "outputs": [
    {
     "data": {
      "text/plain": [
       "38973.0"
      ]
     },
     "execution_count": 219,
     "metadata": {},
     "output_type": "execute_result"
    }
   ],
   "source": [
    "empresa_1[\"volume_total_negociado\"].median()"
   ]
  },
  {
   "cell_type": "code",
   "execution_count": 220,
   "id": "1747a428",
   "metadata": {},
   "outputs": [
    {
     "data": {
      "image/png": "[encoded data removed]",
      "text/plain": [
       "<Figure size 640x480 with 1 Axes>"
      ]
     },
     "metadata": {},
     "output_type": "display_data"
    }
   ],
   "source": [
    "boxplot_empresa1_volumetotal_plt = sns.boxplot(x=empresa_1[\"volume_total_negociado\"])\n",
    "boxplot_empresa1_volumetotal_plt.set_ylabel('Outubro', fontsize=14)\n",
    "\n",
    "boxplot_empresa1_volumetotal_plt.plot()\n",
    "\n",
    "\n",
    "plt.title('Volume total negociado da PETRE em milhões')\n",
    "\n",
    "plt.show()"
   ]
  },
  {
   "cell_type": "code",
   "execution_count": 221,
   "id": "a36f905f",
   "metadata": {},
   "outputs": [
    {
     "data": {
      "text/plain": [
       "384.4783561749843"
      ]
     },
     "execution_count": 221,
     "metadata": {},
     "output_type": "execute_result"
    }
   ],
   "source": [
    "empresa_1[\"numero_negocios\"].std()"
   ]
  },
  {
   "cell_type": "code",
   "execution_count": 222,
   "id": "5653ffaa",
   "metadata": {},
   "outputs": [
    {
     "data": {
      "text/plain": [
       "124.9536252119278"
      ]
     },
     "execution_count": 222,
     "metadata": {},
     "output_type": "execute_result"
    }
   ],
   "source": [
    "empresa_1[\"numero_negocios\"].mean()"
   ]
  },
  {
   "cell_type": "code",
   "execution_count": 223,
   "id": "049d160b",
   "metadata": {},
   "outputs": [
    {
     "data": {
      "text/plain": [
       "13.0"
      ]
     },
     "execution_count": 223,
     "metadata": {},
     "output_type": "execute_result"
    }
   ],
   "source": [
    "empresa_1[\"numero_negocios\"].median()"
   ]
  },
  {
   "cell_type": "code",
   "execution_count": 224,
   "id": "3f747307",
   "metadata": {},
   "outputs": [
    {
     "data": {
      "image/png": "[encoded data removed]",
      "text/plain": [
       "<Figure size 640x480 with 1 Axes>"
      ]
     },
     "metadata": {},
     "output_type": "display_data"
    }
   ],
   "source": [
    "boxplot_empresa1_numeronegocios_plt = sns.boxplot(x=empresa_1[\"numero_negocios\"])\n",
    "boxplot_empresa1_numeronegocios_plt.set_ylabel('Outubro', fontsize=14)\n",
    "\n",
    "boxplot_empresa1_numeronegocios_plt.plot()\n",
    "\n",
    "\n",
    "plt.title('Número de négocios da PETRE')\n",
    "\n",
    "plt.show()"
   ]
  },
  {
   "cell_type": "code",
   "execution_count": 225,
   "id": "b4fd18b1",
   "metadata": {},
   "outputs": [
    {
     "data": {
      "text/plain": [
       "5.776885233996003"
      ]
     },
     "execution_count": 225,
     "metadata": {},
     "output_type": "execute_result"
    }
   ],
   "source": [
    "empresa_1[\"preco_maximo\"].std()"
   ]
  },
  {
   "cell_type": "code",
   "execution_count": 226,
   "id": "c957b70a",
   "metadata": {},
   "outputs": [
    {
     "data": {
      "text/plain": [
       "4.266220205445298"
      ]
     },
     "execution_count": 226,
     "metadata": {},
     "output_type": "execute_result"
    }
   ],
   "source": [
    "empresa_1[\"preco_maximo\"].mean()"
   ]
  },
  {
   "cell_type": "code",
   "execution_count": 227,
   "id": "df75f8e7",
   "metadata": {},
   "outputs": [
    {
     "data": {
      "text/plain": [
       "1.9"
      ]
     },
     "execution_count": 227,
     "metadata": {},
     "output_type": "execute_result"
    }
   ],
   "source": [
    "empresa_1[\"preco_maximo\"].median()"
   ]
  },
  {
   "cell_type": "code",
   "execution_count": 228,
   "id": "7cdc9a2f",
   "metadata": {},
   "outputs": [
    {
     "data": {
      "image/png": "[encoded data removed]",
      "text/plain": [
       "<Figure size 640x480 with 1 Axes>"
      ]
     },
     "metadata": {},
     "output_type": "display_data"
    }
   ],
   "source": [
    "boxplot_empresa1_maximo_plt = sns.boxplot(x = empresa_1[\"preco_maximo\"])\n",
    "boxplot_empresa1_maximo_plt.set_ylabel('Outubro', fontsize=14)\n",
    "\n",
    "boxplot_empresa1_maximo_plt.plot()\n",
    "\n",
    "\n",
    "plt.title('Preço máximo da PETRE') # em R$ - Reais\n",
    "\n",
    "plt.show()"
   ]
  },
  {
   "cell_type": "code",
   "execution_count": 229,
   "id": "67c427b5",
   "metadata": {},
   "outputs": [
    {
     "data": {
      "text/plain": [
       "5.660947624318514"
      ]
     },
     "execution_count": 229,
     "metadata": {},
     "output_type": "execute_result"
    }
   ],
   "source": [
    "empresa_1[\"preco_minimo\"].std()"
   ]
  },
  {
   "cell_type": "code",
   "execution_count": 230,
   "id": "ee3828b7",
   "metadata": {},
   "outputs": [
    {
     "data": {
      "text/plain": [
       "3.9287164655430344"
      ]
     },
     "execution_count": 230,
     "metadata": {},
     "output_type": "execute_result"
    }
   ],
   "source": [
    "empresa_1[\"preco_minimo\"].mean()"
   ]
  },
  {
   "cell_type": "code",
   "execution_count": 231,
   "id": "2fa88159",
   "metadata": {},
   "outputs": [
    {
     "data": {
      "text/plain": [
       "1.5"
      ]
     },
     "execution_count": 231,
     "metadata": {},
     "output_type": "execute_result"
    }
   ],
   "source": [
    "empresa_1[\"preco_minimo\"].median()"
   ]
  },
  {
   "cell_type": "code",
   "execution_count": 232,
   "id": "aee2eb8c",
   "metadata": {},
   "outputs": [
    {
     "data": {
      "image/png": "[encoded data removed]",
      "text/plain": [
       "<Figure size 640x480 with 1 Axes>"
      ]
     },
     "metadata": {},
     "output_type": "display_data"
    }
   ],
   "source": [
    "boxplot_empresa1_minimo_plt = sns.boxplot(x = empresa_1[\"preco_minimo\"])\n",
    "boxplot_empresa1_minimo_plt.set_ylabel('Outubro', fontsize=14)\n",
    "\n",
    "boxplot_empresa1_minimo_plt.plot()\n",
    "\n",
    "\n",
    "plt.title('Preço minímo da PETRE') # em R$ - Reais\n",
    "\n",
    "plt.show()"
   ]
  },
  {
   "cell_type": "code",
   "execution_count": 233,
   "id": "d03fd816",
   "metadata": {},
   "outputs": [
    {
     "data": {
      "text/plain": [
       "5.707135405067762"
      ]
     },
     "execution_count": 233,
     "metadata": {},
     "output_type": "execute_result"
    }
   ],
   "source": [
    "empresa_1[\"preco_abertura\"].std()"
   ]
  },
  {
   "cell_type": "code",
   "execution_count": 234,
   "id": "0f88a5f9",
   "metadata": {},
   "outputs": [
    {
     "data": {
      "text/plain": [
       "4.093392839333799"
      ]
     },
     "execution_count": 234,
     "metadata": {},
     "output_type": "execute_result"
    }
   ],
   "source": [
    "empresa_1[\"preco_abertura\"].mean()"
   ]
  },
  {
   "cell_type": "code",
   "execution_count": 235,
   "id": "04d07503",
   "metadata": {},
   "outputs": [
    {
     "data": {
      "text/plain": [
       "1.71"
      ]
     },
     "execution_count": 235,
     "metadata": {},
     "output_type": "execute_result"
    }
   ],
   "source": [
    "empresa_1[\"preco_abertura\"].median()"
   ]
  },
  {
   "cell_type": "code",
   "execution_count": 236,
   "id": "1e84cf50",
   "metadata": {},
   "outputs": [
    {
     "data": {
      "image/png": "[encoded data removed]",
      "text/plain": [
       "<Figure size 640x480 with 1 Axes>"
      ]
     },
     "metadata": {},
     "output_type": "display_data"
    }
   ],
   "source": [
    "boxplot_empresa1_abertura_plt = sns.boxplot(x = empresa_1[\"preco_abertura\"])\n",
    "boxplot_empresa1_abertura_plt.set_ylabel('Outubro', fontsize=14)\n",
    "\n",
    "boxplot_empresa1_abertura_plt.plot()\n",
    "\n",
    "\n",
    "plt.title('Preço de abertura da PETRE') # em R$ - Reais\n",
    "\n",
    "plt.show()"
   ]
  }
 ],
 "metadata": {
  "kernelspec": {
   "display_name": "Python 3 (ipykernel)",
   "language": "python",
   "name": "python3"
  },
  "language_info": {
   "codemirror_mode": {
    "name": "ipython",
    "version": 3
   },
   "file_extension": ".py",
   "mimetype": "text/x-python",
   "name": "python",
   "nbconvert_exporter": "python",
   "pygments_lexer": "ipython3",
   "version": "3.10.6"
  },
  "vscode": {
   "interpreter": {
    "hash": "07f25d79d22bb07f853fe60dc6a8951878331861792a9e3972b395129bc8db22"
   }
  }
 },
 "nbformat": 4,
 "nbformat_minor": 5
}
