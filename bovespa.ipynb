{
 "cells": [
  {
   "cell_type": "code",
   "execution_count": null,
   "id": "3da4a976",
   "metadata": {
    "colab": {
     "base_uri": "https://localhost:8080/",
     "height": 423
    },
    "id": "3da4a976",
    "outputId": "52aa40fc-2698-408e-bbd5-eafedf7d07c1",
    "scrolled": true
   },
   "outputs": [],
   "source": [
    "import pandas as pd\n",
    "import matplotlib.pyplot as plt\n",
    "import seaborn as sns\n",
    "import numpy as np\n",
    "from scipy.stats import variation\n",
    "from anapy import shifting\n",
    "import plotly.express as px;\n",
    "## Séries históricas disponíveis em\n",
    "## http://www.b3.com.br/pt_br/market-data-e-indices/servicos-de-dados/market-data/historico/mercado-a-vista/series-historicas/\n",
    "arquivo_bovespa = 'datasets/COTAHIST_M102022.TXT'\n",
    "\n",
    "\n",
    "## Estrutura do arquivo disponível em \n",
    "## http://www.b3.com.br/data/files/33/67/B9/50/D84057102C784E47AC094EA8/SeriesHistoricas_Layout.pdf\n",
    "tamanho_campos=[2,8,2,12,3,12,10,3,4,13,13,13,13,13,13,13,5,18,18,13,1,8,7,13,12,3]\n",
    "\n",
    "dados_acoes=pd.read_fwf(arquivo_bovespa, widths=tamanho_campos, header=0)\n",
    "dados_acoes"
   ]
  },
  {
   "cell_type": "code",
   "execution_count": null,
   "id": "ffe5v1fdDXWx",
   "metadata": {
    "colab": {
     "base_uri": "https://localhost:8080/"
    },
    "id": "ffe5v1fdDXWx",
    "outputId": "6ec422a2-001d-42d3-cf30-80ddf1a1ffb6"
   },
   "outputs": [],
   "source": [
    "#from google.colab import drive\n",
    "#drive.mount('/content/drive')"
   ]
  },
  {
   "cell_type": "markdown",
   "id": "Ixa8c3jiGIDg",
   "metadata": {
    "id": "Ixa8c3jiGIDg"
   },
   "source": [
    "## Pré-processamento dos dados \n",
    "\n",
    "#### Etapa 1 - Estruturação\n",
    "\n",
    " "
   ]
  },
  {
   "cell_type": "markdown",
   "id": "yma3qTZ-OESQ",
   "metadata": {
    "id": "yma3qTZ-OESQ"
   },
   "source": [
    "##### Nomeação de colunas, eliminação da última linha e ajustes de valores com vírgula"
   ]
  },
  {
   "cell_type": "code",
   "execution_count": null,
   "id": "49df83c4",
   "metadata": {
    "colab": {
     "base_uri": "https://localhost:8080/",
     "height": 522
    },
    "id": "49df83c4",
    "outputId": "ee882581-2ad2-411a-be72-72cee0a353bd"
   },
   "outputs": [],
   "source": [
    "## Nomear as colunas\n",
    "\n",
    "dados_acoes.columns = [\n",
    "\"tipo_registro\",\n",
    "\"data_pregao\",\n",
    "\"cod_bdi\",\n",
    "\"cod_negociacao\",\n",
    "\"tipo_mercado\",\n",
    "\"empresa\",\n",
    "\"especificacao_papel\",\n",
    "\"prazo_dias_merc_termo\",\n",
    "\"moeda_referencia\",\n",
    "\"preco_abertura\",\n",
    "\"preco_maximo\",\n",
    "\"preco_minimo\",\n",
    "\"preco_medio\",\n",
    "\"preco_ultimo_negocio\",\n",
    "\"preco_melhor_oferta_compra\",\n",
    "\"preco_melhor_oferta_venda\",\n",
    "\"numero_negocios\",\n",
    "\"quantidade_papeis_negociados\",\n",
    "\"volume_total_negociado\",\n",
    "\"preco_exercicio\",\n",
    "\"ìndicador_correcao_precos\",\n",
    "\"data_vencimento\" ,\n",
    "\"fator_cotacao\",\n",
    "\"preco_exercicio_pontos\",\n",
    "\"codigo_isin\",\n",
    "\"num_distribuicao_papel\"]\n",
    "\n",
    "# Eliminar a última linha\n",
    "linha=len(dados_acoes[\"data_pregao\"])\n",
    "dados_acoes=dados_acoes.drop(linha-1)\n",
    "\n",
    "# Ajustar valores com virgula (dividir os valores dessas colunas por 100)\n",
    "listaVirgula=[\n",
    "\"preco_abertura\",\n",
    "\"preco_maximo\",\n",
    "\"preco_minimo\",\n",
    "\"preco_medio\",\n",
    "\"preco_ultimo_negocio\",\n",
    "\"preco_melhor_oferta_compra\",\n",
    "\"preco_melhor_oferta_venda\",\n",
    "\"volume_total_negociado\",\n",
    "\"preco_exercicio\",\n",
    "\"preco_exercicio_pontos\"\n",
    "]\n",
    "\n",
    "for coluna in listaVirgula:\n",
    "    dados_acoes[coluna]=[i/100. for i in dados_acoes[coluna]]\n"
   ]
  },
  {
   "cell_type": "markdown",
   "id": "kvmxmEJlOBMQ",
   "metadata": {
    "id": "kvmxmEJlOBMQ"
   },
   "source": [
    "##### Tipos de dados"
   ]
  },
  {
   "cell_type": "code",
   "execution_count": null,
   "id": "CNxUGRsbMpuY",
   "metadata": {
    "colab": {
     "base_uri": "https://localhost:8080/"
    },
    "id": "CNxUGRsbMpuY",
    "outputId": "b1c6145c-aa7b-4e9d-a603-0b5666a1ae8f"
   },
   "outputs": [],
   "source": [
    "## Informações das variáveis\n",
    "dados_acoes.info()\n",
    "\n",
    "## Corrigir tipos de dados\n",
    "#dados_acoes[\"data_pregao\"]  = pd.to_datetime(dados_acoes[\"data_pregao\"],infer_datetime_format=True) #Transforma para o tipo datetime64\n",
    "dados_acoes[\"cod_negociacao\"] = dados_acoes[\"cod_negociacao\"].astype('|S') #Transforma o objeto em string\n",
    "#dados_acoes[\"empresa\"] = dados_acoes[\"empresa\"].astype('|S') #Transforma o objeto em string\n",
    "dados_acoes[\"codigo_isin\"] = dados_acoes[\"codigo_isin\"].astype('|S') #Transforma o objeto em string\n",
    "\n",
    "\n",
    "dados_acoes.info()"
   ]
  },
  {
   "cell_type": "markdown",
   "id": "4fKUpXnzLKdw",
   "metadata": {
    "id": "4fKUpXnzLKdw"
   },
   "source": [
    "#### Etapa 2 - Remoção de Dados Faltantes"
   ]
  },
  {
   "cell_type": "code",
   "execution_count": null,
   "id": "_BTQMfMDI8Ew",
   "metadata": {
    "colab": {
     "base_uri": "https://localhost:8080/"
    },
    "id": "_BTQMfMDI8Ew",
    "outputId": "477c59f0-cca7-4032-d574-51a92891d926"
   },
   "outputs": [],
   "source": [
    "#Identificar dados faltantes\n",
    "dados_acoes.isnull().sum()"
   ]
  },
  {
   "cell_type": "code",
   "execution_count": null,
   "id": "7mAdMCE2I6Wg",
   "metadata": {
    "colab": {
     "base_uri": "https://localhost:8080/"
    },
    "id": "7mAdMCE2I6Wg",
    "outputId": "bec2b543-4e1f-43a0-b93f-344cfd94520d"
   },
   "outputs": [],
   "source": [
    "## Remover dados faltantes\n",
    "dados_acoes = dados_acoes.dropna(axis=1)\n",
    "dados_acoes.isnull().sum()"
   ]
  },
  {
   "cell_type": "markdown",
   "id": "vu7YQMXBI1XB",
   "metadata": {
    "id": "vu7YQMXBI1XB"
   },
   "source": [
    "##### Representação Gráfica e Análise Descritiva"
   ]
  },
  {
   "cell_type": "code",
   "execution_count": null,
   "id": "VHt1nLnIWrC7",
   "metadata": {
    "id": "VHt1nLnIWrC7"
   },
   "outputs": [],
   "source": []
  },
  {
   "cell_type": "markdown",
   "id": "0UxWmWduVLJR",
   "metadata": {
    "id": "0UxWmWduVLJR"
   },
   "source": [
    "###### Análise da coluna Indicadores de Correção de Preços"
   ]
  },
  {
   "cell_type": "code",
   "execution_count": null,
   "id": "S5fcOaCGQwK5",
   "metadata": {
    "colab": {
     "base_uri": "https://localhost:8080/",
     "height": 302
    },
    "id": "S5fcOaCGQwK5",
    "outputId": "ce03c589-3074-4a70-9a0b-90fda05f6beb"
   },
   "outputs": [],
   "source": [
    "# Parecem haver dados ruidosos aqui\n",
    "plt.hist(x = dados_acoes[\"ìndicador_correcao_precos\"], rwidth = 0.2)\n",
    "indicador_correcao_precos = {\n",
    "    \"mode\" : dados_acoes[\"ìndicador_correcao_precos\"].mode() ,\n",
    "    \"mean\" : dados_acoes[\"ìndicador_correcao_precos\"].mean() ,\n",
    "    \"meadian\" : dados_acoes[\"ìndicador_correcao_precos\"].median()\n",
    "}\n",
    "# Essa coluna não revela nada relevante\n",
    "print(indicador_correcao_precos)\n",
    "#Remoção da coluna dados_acoes[\"ìndicador_correcao_precos\"]\n",
    "dados_acoes = dados_acoes.drop([\"ìndicador_correcao_precos\"], axis = \"columns\")"
   ]
  },
  {
   "cell_type": "code",
   "execution_count": null,
   "id": "4xYyKo_gZAyS",
   "metadata": {
    "id": "4xYyKo_gZAyS"
   },
   "outputs": [],
   "source": []
  },
  {
   "cell_type": "markdown",
   "id": "2fB-sFReVQvo",
   "metadata": {
    "id": "2fB-sFReVQvo"
   },
   "source": [
    "###### Análise da coluna \"preco_exercicio_pontos\""
   ]
  },
  {
   "cell_type": "code",
   "execution_count": null,
   "id": "3ZY4ABVPVDBD",
   "metadata": {
    "colab": {
     "base_uri": "https://localhost:8080/",
     "height": 315
    },
    "id": "3ZY4ABVPVDBD",
    "outputId": "5b9dddbd-474f-4242-d8ec-5fb9a463de66"
   },
   "outputs": [],
   "source": [
    "# Parecem haver dados ruidosos aqui\n",
    "plt.hist(x = dados_acoes[\"preco_exercicio_pontos\"], rwidth = 0.2)\n",
    "preco_exercicio_pontos = {\n",
    "    \"mode\" : dados_acoes[\"preco_exercicio_pontos\"].mode() ,\n",
    "    \"mean\" : dados_acoes[\"preco_exercicio_pontos\"].mean() ,\n",
    "    \"meadian\" : dados_acoes[\"preco_exercicio_pontos\"].median()\n",
    "}\n",
    "# Essa coluna não revela nada relevante\n",
    "print(preco_exercicio_pontos)\n",
    "# Remoção da coluna\n",
    "dados_acoes = dados_acoes.drop([\"preco_exercicio_pontos\"], axis = \"columns\")"
   ]
  },
  {
   "cell_type": "code",
   "execution_count": null,
   "id": "VjRbtuQdWPGa",
   "metadata": {
    "colab": {
     "base_uri": "https://localhost:8080/",
     "height": 522
    },
    "id": "VjRbtuQdWPGa",
    "outputId": "de7d7811-545a-42d5-89b7-13f40d0baa4f"
   },
   "outputs": [],
   "source": [
    "dados_acoes"
   ]
  },
  {
   "cell_type": "code",
   "execution_count": null,
   "id": "cnBr3jTgTFBC",
   "metadata": {
    "colab": {
     "base_uri": "https://localhost:8080/",
     "height": 573
    },
    "id": "cnBr3jTgTFBC",
    "outputId": "a1e7ff82-6ba6-4a2a-e08a-afb83f6e8581"
   },
   "outputs": [],
   "source": []
  },
  {
   "cell_type": "code",
   "execution_count": null,
   "id": "b7ac16eb",
   "metadata": {
    "id": "b7ac16eb"
   },
   "outputs": [],
   "source": [
    "dados_acoes.drop([\"moeda_referencia\"], axis=1, inplace=True)\n"
   ]
  },
  {
   "cell_type": "code",
   "execution_count": null,
   "id": "d8174b30",
   "metadata": {
    "colab": {
     "base_uri": "https://localhost:8080/"
    },
    "id": "d8174b30",
    "outputId": "d550616d-094a-45ca-80ec-0fd4ecbd2ac4"
   },
   "outputs": [],
   "source": [
    "dados_acoes[\"empresa\"].value_counts()"
   ]
  },
  {
   "cell_type": "code",
   "execution_count": null,
   "id": "e0cc416e",
   "metadata": {
    "colab": {
     "base_uri": "https://localhost:8080/",
     "height": 522
    },
    "id": "e0cc416e",
    "outputId": "6df3acb6-a3f9-4d63-e75b-dc951c79fd5f"
   },
   "outputs": [],
   "source": [
    "dados_acoes[\"fator_cotacao\"]"
   ]
  },
  {
   "cell_type": "code",
   "execution_count": null,
   "id": "05a56736",
   "metadata": {
    "id": "05a56736"
   },
   "outputs": [],
   "source": [
    "\n",
    "empresa_1 = dados_acoes[dados_acoes[\"empresa\"] == \"PETRE\"]"
   ]
  },
  {
   "cell_type": "code",
   "execution_count": null,
   "id": "063178ef",
   "metadata": {
    "colab": {
     "base_uri": "https://localhost:8080/",
     "height": 487
    },
    "id": "063178ef",
    "outputId": "fc8ce045-e4b4-4a5b-d272-6aba2c1dbe6d",
    "scrolled": true
   },
   "outputs": [],
   "source": [
    "empresa_1"
   ]
  },
  {
   "cell_type": "markdown",
   "id": "p4Vb0GOUQkmg",
   "metadata": {
    "id": "p4Vb0GOUQkmg"
   },
   "source": []
  },
  {
   "cell_type": "markdown",
   "id": "c40edec8",
   "metadata": {
    "id": "c40edec8"
   },
   "source": [
    "## Como estão centrados os preços dos últimos negocios da PETRE?"
   ]
  },
  {
   "cell_type": "markdown",
   "id": "d245a97b",
   "metadata": {
    "id": "d245a97b"
   },
   "source": [
    "#### Primeiro os dados dos preços do últimos negócios serão alocados para um objeto Series unidimensional "
   ]
  },
  {
   "cell_type": "code",
   "execution_count": null,
   "id": "2c59d04a",
   "metadata": {
    "colab": {
     "base_uri": "https://localhost:8080/"
    },
    "id": "2c59d04a",
    "outputId": "0e9d76ca-58f5-4d3d-ec3e-26a38c5bc3c7"
   },
   "outputs": [],
   "source": [
    "PETRE = empresa_1[\"preco_ultimo_negocio\"]\n",
    "PETRE_arr = np.array(PETRE)\n",
    "type(PETRE)\n",
    "type(PETRE_arr)\n",
    "\n",
    "#Ordenar preço dos últimos negócios da PETRE\n",
    "PETRE_arr.sort()\n",
    "print(PETRE_arr)"
   ]
  },
  {
   "cell_type": "code",
   "execution_count": null,
   "id": "80547795",
   "metadata": {
    "colab": {
     "base_uri": "https://localhost:8080/"
    },
    "id": "80547795",
    "outputId": "d5603b66-56ef-4c41-9478-29eb328650ff"
   },
   "outputs": [],
   "source": [
    "PETRE.describe()"
   ]
  },
  {
   "cell_type": "markdown",
   "id": "ceaf8c73",
   "metadata": {
    "id": "ceaf8c73"
   },
   "source": [
    "#### O dicionário \"central_tendency_measures\" contém dados das medidas de tendência central do Series em questão"
   ]
  },
  {
   "cell_type": "code",
   "execution_count": null,
   "id": "40865daf",
   "metadata": {
    "colab": {
     "base_uri": "https://localhost:8080/"
    },
    "id": "40865daf",
    "outputId": "ceee9297-df23-4fb5-c301-5bd592cb200f"
   },
   "outputs": [],
   "source": [
    "\n",
    "central_tendency_measures = {\n",
    "    \"mean\": PETRE.mean(),\n",
    "    \"mode\": PETRE.mode(dropna = True),\n",
    "    \"median\": PETRE.median(), \n",
    "    \"max\": PETRE.max(),\n",
    "    \"min\": PETRE.min(),\n",
    "}\n",
    "pd.Series(central_tendency_measures)"
   ]
  },
  {
   "cell_type": "markdown",
   "id": "38ece510",
   "metadata": {
    "id": "38ece510"
   },
   "source": [
    "## Como estão distribuídos os preços das ações da PETRE?\n"
   ]
  },
  {
   "cell_type": "markdown",
   "id": "453838c0",
   "metadata": {
    "id": "453838c0"
   },
   "source": [
    "#### Variability Measures\n",
    "Existe uniformidade entre as medidas encontradas?"
   ]
  },
  {
   "cell_type": "code",
   "execution_count": null,
   "id": "a7e32589",
   "metadata": {
    "colab": {
     "base_uri": "https://localhost:8080/"
    },
    "id": "a7e32589",
    "outputId": "46e54640-5513-480c-ab1e-dd6b9220f6ce"
   },
   "outputs": [],
   "source": [
    "\n",
    "# output: [ 1  1  0  4 -5]\n",
    "variability_measures = {\n",
    "    \"variance\" : PETRE.var(),\n",
    "    \"standard deviation\": PETRE.std(),\n",
    "    \"shifiting_range\" : np.unique(shifting.shifting_range(PETRE_arr)),\n",
    "    \"CV\" : variation(PETRE)\n",
    "}\n",
    "pd.Series(variability_measures)\n",
    "\n"
   ]
  },
  {
   "cell_type": "markdown",
   "id": "b257391d",
   "metadata": {
    "id": "b257391d"
   },
   "source": [
    "#### A média está centralizada?\n"
   ]
  },
  {
   "cell_type": "code",
   "execution_count": null,
   "id": "e7b1edee",
   "metadata": {
    "id": "e7b1edee"
   },
   "outputs": [],
   "source": [
    "#Criar um gráfico que\n",
    "    #Exibe a diferença entre o coeficiente de variação, a média e o desvio padrão\n",
    "    "
   ]
  },
  {
   "cell_type": "code",
   "execution_count": null,
   "id": "35222974",
   "metadata": {
    "colab": {
     "base_uri": "https://localhost:8080/",
     "height": 298
    },
    "id": "35222974",
    "outputId": "525f3c83-2f68-4537-8367-fad1d25796e2"
   },
   "outputs": [],
   "source": [
    "boxplot_empresa1_precoultimo_plt = sns.boxplot(x=empresa_1[\"preco_ultimo_negocio\"]) # colocando o boxplot numa variável para manipular melhor\n",
    "boxplot_empresa1_precoultimo_plt.set_ylabel('Outubro', fontsize=14) # Aqui você renomeia o eixo que deseja e o tamanho da fonte\n",
    "\n",
    "boxplot_empresa1_precoultimo_plt.plot() # Aqui é como se o gráfico fosse ocultado até ser usado plt.show()\n",
    "\n",
    "# em R$ - Reais\n",
    "plt.title('Últimos preços negociados da PETRE') # O título que se deseja colocar acima do gráfico\n",
    "\n",
    "plt.show() # Impressão do gráfico"
   ]
  },
  {
   "cell_type": "code",
   "execution_count": null,
   "id": "86d86262",
   "metadata": {
    "colab": {
     "base_uri": "https://localhost:8080/"
    },
    "id": "86d86262",
    "outputId": "d59bb4e3-4017-48bf-da8c-200c0a8d25c6"
   },
   "outputs": [],
   "source": [
    "empresa_1[\"volume_total_negociado\"].std()"
   ]
  },
  {
   "cell_type": "code",
   "execution_count": null,
   "id": "e2e7ee5e",
   "metadata": {
    "colab": {
     "base_uri": "https://localhost:8080/"
    },
    "id": "e2e7ee5e",
    "outputId": "fa2366fa-13ce-4d9a-f069-f503417aa863"
   },
   "outputs": [],
   "source": [
    "empresa_1[\"volume_total_negociado\"].mean()"
   ]
  },
  {
   "cell_type": "code",
   "execution_count": null,
   "id": "dedd841b",
   "metadata": {
    "colab": {
     "base_uri": "https://localhost:8080/"
    },
    "id": "dedd841b",
    "outputId": "896b29ce-52fe-4db7-f65f-1883041c5ed0"
   },
   "outputs": [],
   "source": [
    "empresa_1[\"volume_total_negociado\"].median()"
   ]
  },
  {
   "cell_type": "code",
   "execution_count": null,
   "id": "1747a428",
   "metadata": {
    "colab": {
     "base_uri": "https://localhost:8080/",
     "height": 296
    },
    "id": "1747a428",
    "outputId": "9bd53f4e-6ae2-4146-8d26-65ca992e03b6"
   },
   "outputs": [],
   "source": [
    "boxplot_empresa1_volumetotal_plt = sns.boxplot(x=empresa_1[\"volume_total_negociado\"])\n",
    "boxplot_empresa1_volumetotal_plt.set_ylabel('Outubro', fontsize=14)\n",
    "\n",
    "boxplot_empresa1_volumetotal_plt.plot()\n",
    "\n",
    "\n",
    "plt.title('Volume total negociado da PETRE em milhões')\n",
    "\n",
    "plt.show()"
   ]
  },
  {
   "cell_type": "code",
   "execution_count": null,
   "id": "a36f905f",
   "metadata": {
    "colab": {
     "base_uri": "https://localhost:8080/"
    },
    "id": "a36f905f",
    "outputId": "bbe01701-e257-4037-fd35-5899da605a37"
   },
   "outputs": [],
   "source": [
    "empresa_1[\"numero_negocios\"].std()"
   ]
  },
  {
   "cell_type": "code",
   "execution_count": null,
   "id": "5653ffaa",
   "metadata": {
    "colab": {
     "base_uri": "https://localhost:8080/"
    },
    "id": "5653ffaa",
    "outputId": "7298405c-a53a-47fe-b64e-8a5f2450816a"
   },
   "outputs": [],
   "source": [
    "empresa_1[\"numero_negocios\"].mean()"
   ]
  },
  {
   "cell_type": "code",
   "execution_count": null,
   "id": "049d160b",
   "metadata": {
    "colab": {
     "base_uri": "https://localhost:8080/"
    },
    "id": "049d160b",
    "outputId": "5c859dbe-578b-4225-bc43-4c99c0739ca8"
   },
   "outputs": [],
   "source": [
    "empresa_1[\"numero_negocios\"].median()"
   ]
  },
  {
   "cell_type": "code",
   "execution_count": null,
   "id": "3f747307",
   "metadata": {
    "colab": {
     "base_uri": "https://localhost:8080/",
     "height": 296
    },
    "id": "3f747307",
    "outputId": "f7afc52a-c2d9-46c1-cac3-cf7731e68587"
   },
   "outputs": [],
   "source": [
    "boxplot_empresa1_numeronegocios_plt = sns.boxplot(x=empresa_1[\"numero_negocios\"])\n",
    "boxplot_empresa1_numeronegocios_plt.set_ylabel('Outubro', fontsize=14)\n",
    "\n",
    "boxplot_empresa1_numeronegocios_plt.plot()\n",
    "\n",
    "\n",
    "plt.title('Número de négocios da PETRE')\n",
    "\n",
    "plt.show()"
   ]
  },
  {
   "cell_type": "code",
   "execution_count": null,
   "id": "b4fd18b1",
   "metadata": {
    "colab": {
     "base_uri": "https://localhost:8080/"
    },
    "id": "b4fd18b1",
    "outputId": "893e7c5a-8a98-4fd3-9814-4b1db676a493"
   },
   "outputs": [],
   "source": [
    "empresa_1[\"preco_maximo\"].std()"
   ]
  },
  {
   "cell_type": "code",
   "execution_count": null,
   "id": "c957b70a",
   "metadata": {
    "colab": {
     "base_uri": "https://localhost:8080/"
    },
    "id": "c957b70a",
    "outputId": "12c9fc8a-2f82-4a7c-fdbd-be5e0ab65ea3"
   },
   "outputs": [],
   "source": [
    "empresa_1[\"preco_maximo\"].mean()"
   ]
  },
  {
   "cell_type": "code",
   "execution_count": null,
   "id": "df75f8e7",
   "metadata": {
    "colab": {
     "base_uri": "https://localhost:8080/"
    },
    "id": "df75f8e7",
    "outputId": "4437ca19-dba4-4132-cd5e-9f9dcd2a9f47"
   },
   "outputs": [],
   "source": [
    "empresa_1[\"preco_maximo\"].median()"
   ]
  },
  {
   "cell_type": "code",
   "execution_count": null,
   "id": "7cdc9a2f",
   "metadata": {
    "colab": {
     "base_uri": "https://localhost:8080/",
     "height": 296
    },
    "id": "7cdc9a2f",
    "outputId": "17394fe1-1419-4e7f-f023-876dca50398f"
   },
   "outputs": [],
   "source": [
    "boxplot_empresa1_maximo_plt = sns.boxplot(x = empresa_1[\"preco_maximo\"])\n",
    "boxplot_empresa1_maximo_plt.set_ylabel('Outubro', fontsize=14)\n",
    "\n",
    "boxplot_empresa1_maximo_plt.plot()\n",
    "\n",
    "\n",
    "plt.title('Preço máximo da PETRE') # em R$ - Reais\n",
    "\n",
    "plt.show()"
   ]
  },
  {
   "cell_type": "code",
   "execution_count": null,
   "id": "67c427b5",
   "metadata": {
    "colab": {
     "base_uri": "https://localhost:8080/"
    },
    "id": "67c427b5",
    "outputId": "10385c76-5ecd-4e6f-d707-66c336229f38"
   },
   "outputs": [],
   "source": [
    "empresa_1[\"preco_minimo\"].std()"
   ]
  },
  {
   "cell_type": "code",
   "execution_count": null,
   "id": "ee3828b7",
   "metadata": {
    "colab": {
     "base_uri": "https://localhost:8080/"
    },
    "id": "ee3828b7",
    "outputId": "cfcfdee1-b69f-4b68-e2c3-a3a7a85e98e6"
   },
   "outputs": [],
   "source": [
    "empresa_1[\"preco_minimo\"].mean()"
   ]
  },
  {
   "cell_type": "code",
   "execution_count": null,
   "id": "2fa88159",
   "metadata": {
    "colab": {
     "base_uri": "https://localhost:8080/"
    },
    "id": "2fa88159",
    "outputId": "8fceac40-7eae-410e-95b5-66151bd93ffb"
   },
   "outputs": [],
   "source": [
    "empresa_1[\"preco_minimo\"].median()"
   ]
  },
  {
   "cell_type": "code",
   "execution_count": null,
   "id": "aee2eb8c",
   "metadata": {
    "colab": {
     "base_uri": "https://localhost:8080/",
     "height": 296
    },
    "id": "aee2eb8c",
    "outputId": "fabad87a-4af0-44ec-fbde-283f051ffe25"
   },
   "outputs": [],
   "source": [
    "boxplot_empresa1_minimo_plt = sns.boxplot(x = empresa_1[\"preco_minimo\"])\n",
    "boxplot_empresa1_minimo_plt.set_ylabel('Outubro', fontsize=14)\n",
    "\n",
    "boxplot_empresa1_minimo_plt.plot()\n",
    "\n",
    "\n",
    "plt.title('Preço minímo da PETRE') # em R$ - Reais\n",
    "\n",
    "plt.show()"
   ]
  },
  {
   "cell_type": "code",
   "execution_count": null,
   "id": "0f88a5f9",
   "metadata": {
    "colab": {
     "base_uri": "https://localhost:8080/"
    },
    "id": "0f88a5f9",
    "outputId": "4eef3024-c43b-4c9c-e735-3b57f316d7a1"
   },
   "outputs": [],
   "source": [
    "empresa_1[\"preco_abertura\"].mean()"
   ]
  },
  {
   "cell_type": "code",
   "execution_count": null,
   "id": "d03fd816",
   "metadata": {
    "colab": {
     "base_uri": "https://localhost:8080/"
    },
    "id": "d03fd816",
    "outputId": "e53d3129-bb8a-4c48-f92c-64fdf3c2cbee"
   },
   "outputs": [],
   "source": [
    "empresa_1[\"preco_abertura\"].std()"
   ]
  },
  {
   "cell_type": "code",
   "execution_count": null,
   "id": "04d07503",
   "metadata": {
    "colab": {
     "base_uri": "https://localhost:8080/"
    },
    "id": "04d07503",
    "outputId": "7be2f743-b9fc-4fdd-fab9-e0430ac695dd"
   },
   "outputs": [],
   "source": [
    "empresa_1[\"preco_abertura\"].median()"
   ]
  },
  {
   "cell_type": "code",
   "execution_count": null,
   "id": "1e84cf50",
   "metadata": {
    "colab": {
     "base_uri": "https://localhost:8080/",
     "height": 296
    },
    "id": "1e84cf50",
    "outputId": "d0516aa1-472a-40a5-baa4-8d714ada5e8c"
   },
   "outputs": [],
   "source": [
    "boxplot_empresa1_abertura_plt = sns.boxplot(x = empresa_1[\"preco_abertura\"])\n",
    "boxplot_empresa1_abertura_plt.set_ylabel('Outubro', fontsize=14)\n",
    "\n",
    "boxplot_empresa1_abertura_plt.plot()\n",
    "\n",
    "\n",
    "plt.title('Preço de abertura da PETRE') # em R$ - Reais\n",
    "\n",
    "plt.show()"
   ]
  },
  {
   "cell_type": "code",
   "execution_count": null,
   "id": "812cbfe9",
   "metadata": {},
   "outputs": [],
   "source": [
    "empresa_1[[\"preco_abertura\", \"preco_ultimo_negocio\",\"preco_minimo\",\"preco_maximo\",\"numero_negocios\",\"volume_total_negociado\"]].corr()\n",
    "\n",
    "\t"
   ]
  },
  {
   "cell_type": "code",
   "execution_count": null,
   "id": "f2a5b90a",
   "metadata": {},
   "outputs": [],
   "source": [
    "empresa_1.plot.scatter(x=\"preco_abertura\",y=\"preco_ultimo_negocio\")"
   ]
  },
  {
   "cell_type": "code",
   "execution_count": null,
   "id": "cbda0856",
   "metadata": {},
   "outputs": [],
   "source": [
    "empresa_1.plot.scatter(x=\"numero_negocios\",y=\"volume_total_negociado\")"
   ]
  },
  {
   "cell_type": "code",
   "execution_count": null,
   "id": "50426001",
   "metadata": {},
   "outputs": [],
   "source": [
    "empresa_1.plot.scatter(x=\"preco_minimo\",y=\"preco_maximo\")"
   ]
  },
  {
   "cell_type": "code",
   "execution_count": null,
   "id": "363c1bba",
   "metadata": {},
   "outputs": [],
   "source": [
    "empresa_1.plot.scatter(x=\"numero_negocios\",y=\"preco_ultimo_negocio\")\n"
   ]
  },
  {
   "cell_type": "code",
   "execution_count": null,
   "id": "49910793",
   "metadata": {},
   "outputs": [],
   "source": [
    "empresa_1.plot.scatter(x=\"volume_total_negociado\",y=\"preco_ultimo_negocio\")"
   ]
  },
  {
   "cell_type": "code",
   "execution_count": null,
   "id": "cdb483ec",
   "metadata": {},
   "outputs": [],
   "source": [
    "#Using seaborn\n",
    "sns.set_palette('Set1')"
   ]
  },
  {
   "cell_type": "code",
   "execution_count": null,
   "id": "39ed9740",
   "metadata": {},
   "outputs": [],
   "source": [
    "\n",
    "empresa_2 = dados_acoes[dados_acoes[\"empresa\"] == \"VALEE\"]\n",
    "empresa_3 = dados_acoes[dados_acoes[\"empresa\"] == \"BBASE\"]\n",
    "empresa_4 = dados_acoes[dados_acoes[\"empresa\"] == \"MGLUE\"]\n"
   ]
  },
  {
   "cell_type": "code",
   "execution_count": null,
   "id": "f5904f69",
   "metadata": {},
   "outputs": [],
   "source": [
    "empresas = pd.concat([empresa_1, empresa_2, empresa_3, empresa_4])"
   ]
  },
  {
   "cell_type": "code",
   "execution_count": null,
   "id": "6faba799",
   "metadata": {},
   "outputs": [],
   "source": [
    "empresas"
   ]
  },
  {
   "cell_type": "code",
   "execution_count": null,
   "id": "8b811e81",
   "metadata": {
    "scrolled": false
   },
   "outputs": [],
   "source": [
    "plt.figure(figsize=(25,5))\n",
    "sns.lineplot(data=empresas, x=\"data_pregao\", y=\"numero_negocios\", hue=\"empresa\")\n",
    "# Lembrando que 202210 -> mes de outubro em 2022"
   ]
  },
  {
   "cell_type": "code",
   "execution_count": null,
   "id": "6a583a29",
   "metadata": {},
   "outputs": [],
   "source": [
    "\n",
    "\n",
    "plt.figure(figsize=(25,5))\n",
    "sns.lineplot(data=empresas, x=\"data_pregao\", y=\"preco_ultimo_negocio\", hue=\"empresa\")\n",
    "\n"
   ]
  },
  {
   "cell_type": "code",
   "execution_count": null,
   "id": "6c3045cd",
   "metadata": {},
   "outputs": [],
   "source": [
    "plt.figure(figsize=(25,5))\n",
    "sns.lineplot(data=empresas, x=\"data_pregao\", y=\"volume_total_negociado\", hue=\"empresa\")"
   ]
  },
  {
   "cell_type": "code",
   "execution_count": null,
   "id": "09ce3ac4",
   "metadata": {},
   "outputs": [],
   "source": [
    "plt.figure(figsize=(25,5))\n",
    "sns.lineplot(data=empresa_1, x=\"data_pregao\", y=\"volume_total_negociado\")\n",
    "\n"
   ]
  },
  {
   "cell_type": "code",
   "execution_count": null,
   "id": "f7797a31",
   "metadata": {},
   "outputs": [],
   "source": [
    "\n",
    "\n",
    "empresa_1['numero_negocios'].plot(label = \"PETROBRÁS\", color = \"forestgreen\", figsize = (18,9))\n",
    "empresa_2['numero_negocios'].plot(label = \"BBASE\", color = 'brown')\n",
    "empresa_3['numero_negocios'].plot(label = \"VALE\", color = 'green')\n",
    "empresa_4['numero_negocios'].plot(label = \"MAGAZINE LUIZA\", color = 'blue')\n",
    "\n",
    "\n",
    "\n",
    "plt.title('Preço Máximo')\n",
    "plt.legend()\n",
    "plt.show()\n",
    "\n"
   ]
  },
  {
   "cell_type": "code",
   "execution_count": null,
   "id": "a5696998",
   "metadata": {},
   "outputs": [],
   "source": [
    "\n",
    "\n",
    "plt.hist(empresa_1['numero_negocios'], alpha=0.5, label='PETROBRÁS', bins=2, color='darkgreen')\n",
    "plt.hist(empresa_2['numero_negocios'], alpha=0.5, label='BBASE', bins=2, color='red')\n",
    "plt.hist(empresa_3['numero_negocios'], alpha=0.5, label='VALE', bins=2, color='g')\n",
    "plt.hist(empresa_4['numero_negocios'], alpha=0.5, label='MAGAZINE LUIZA', bins=2, color='darkblue')\n",
    "plt.title(\"Número de Negócios por Empresa\")\n",
    "plt.legend()\n",
    "matplotlib.rcParams['figure.figsize'] = (12, 9)\n",
    "\n"
   ]
  },
  {
   "cell_type": "code",
   "execution_count": null,
   "id": "4012f60c",
   "metadata": {},
   "outputs": [],
   "source": [
    "\n",
    "\n",
    "'''df = sns.load_dataset(\"empresas\")'''\n",
    "sns.barplot(data=empresas, x=\"data_pregao\", y=\"preco_maximo\", hue = \"empresa\")\n",
    "\n"
   ]
  },
  {
   "cell_type": "code",
   "execution_count": null,
   "id": "bcf0db0d",
   "metadata": {},
   "outputs": [],
   "source": [
    "fig = px.scatter(empresas, x = 'numero_negocios', y = 'preco_maximo', color = 'empresa', hover_name = \"empresa\", log_x = True, width = 800)\n",
    "fig.update_traces(marker=dict(size = 10,line = dict(width = 1)),selector=dict(mode = 'markers'))\n",
    "fig.update_layout(title = 'Análise de Nº de Negócios vs. Preço Máximo')\n",
    "fig.update_xaxes(title = 'Nº de Negócios')\n",
    "fig.update_yaxes(title = 'Preço Máximo')\n",
    "fig.show()"
   ]
  },
  {
   "cell_type": "code",
   "execution_count": null,
   "id": "e2ef2dd3",
   "metadata": {},
   "outputs": [],
   "source": [
    "sns.barplot(data=empresas, y=\"empresa\", x=\"numero_negocios\", hue=\"empresa\", saturation=0.45, orient = 'h', linewidth=3)\n",
    "\n"
   ]
  }
 ],
 "metadata": {
  "colab": {
   "collapsed_sections": [
    "d245a97b",
    "ceaf8c73",
    "453838c0",
    "b257391d"
   ],
   "provenance": []
  },
  "kernelspec": {
   "display_name": "Python 3 (ipykernel)",
   "language": "python",
   "name": "python3"
  },
  "language_info": {
   "codemirror_mode": {
    "name": "ipython",
    "version": 3
   },
   "file_extension": ".py",
   "mimetype": "text/x-python",
   "name": "python",
   "nbconvert_exporter": "python",
   "pygments_lexer": "ipython3",
   "version": "3.11.0"
  },
  "vscode": {
   "interpreter": {
    "hash": "07f25d79d22bb07f853fe60dc6a8951878331861792a9e3972b395129bc8db22"
   }
  }
 },
 "nbformat": 4,
 "nbformat_minor": 5
}
